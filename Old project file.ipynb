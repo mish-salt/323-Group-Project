{
 "cells": [
  {
   "cell_type": "markdown",
   "id": "4ed1ed10-cdd5-43c9-a4e0-c08d81ae40b9",
   "metadata": {},
   "source": [
    "<h1>Investigating Aggregate Factors Associated with Car Insurance Prices</h1>"
   ]
  },
  {
   "cell_type": "markdown",
   "id": "1ec09c2f-2f92-4a1f-a97a-ca05487383ad",
   "metadata": {
    "tags": []
   },
   "source": [
    "Group members:\n",
    "Karina Li,\n",
    "Daisy Liu,\n",
    "Xinyu Li,\n",
    "Catherine Yang"
   ]
  },
  {
   "cell_type": "markdown",
   "id": "5911734f-1344-426e-bc4f-0dae8afbf3a9",
   "metadata": {},
   "source": [
    "<h1>Intro</h1>"
   ]
  },
  {
   "cell_type": "markdown",
   "id": "294f13d4-fad2-46ed-bbaf-63a8ce072649",
   "metadata": {},
   "source": [
    "The United States holds the distinction of being the largest insurance market globally,\n",
    "significantly outpacing other countries. In 2022, the U.S. insurance market recorded the\n",
    "highest value of life and non-life direct premiums, more than four times that of the\n",
    "second-ranked Chinese market, according to data from Statista. Recently, the rising cost\n",
    "of automobile insurance in the U.S. has been attributed to increases in the frequency and\n",
    "severity of auto accidents, compounded by factors such as distracted driving and medical\n",
    "cost inflation. This paper seeks to explore how aggregate factors, such as the prevalence\n",
    "of bad drivers, frequency of accidents, and incidents of theft, correlate with higher\n",
    "insurance costs. The insights gained from this research could help mitigate price\n",
    "discrimination, protect consumer rights, and promote a healthier insurance industry."
   ]
  },
  {
   "cell_type": "markdown",
   "id": "f0387672-6a8f-458f-9e4a-ae02f8fecdc1",
   "metadata": {},
   "source": [
    "**First Dataset:**\n",
    "The primary dataset used in this research is sourced from the FiveThirtyEight’s bad\n",
    "driver’s dataset available on Kaggle. This dataset compiles information from the National\n",
    "Highway Traffic Safety Administration (NHTSA) and the National Association of\n",
    "Insurance Commissioners (NAIC). It specifically includes data on the number of\n",
    "accidents attributed to alcohol-impaired driving and speeding, alongside car insurance\n",
    "premiums and the financial losses incurred by insurance companies due to collisions.\n",
    "This data will allow us to analyze the direct impact of driver behavior on insurance costs."
   ]
  },
  {
   "cell_type": "markdown",
   "id": "1e46110a-83a3-49b6-b75c-553f71022b49",
   "metadata": {
    "tags": []
   },
   "source": [
    "**Second Dataset:**\n",
    "Further, we utilize a comprehensive accident dataset from Kaggle, which covers 49\n",
    "states of the USA with approximately 7.7 million records. This dataset details each\n",
    "accident&#39;s severity on a scale from 1 to 4, where 1 signifies minimal traffic impact. It also\n",
    "provides geographical coordinates for accidents, the local time when they occurred, and\n",
    "the extent of the road affected. This dataset aids in understanding the geographic\n",
    "distribution and timing of accidents, crucial for assessing risk factors associated with\n",
    "higher insurance premiums."
   ]
  },
  {
   "cell_type": "markdown",
   "id": "51fa946a-6af5-4ab7-a6b5-1dcf309f8e59",
   "metadata": {},
   "source": [
    "**Third Dataset:**\n",
    "Additionally, we incorporate crime statistics from another Kaggle dataset, which includes\n",
    "reports from the U.S. Department of Justice and the Federal Bureau of Investigation\n",
    "covering all 49 states. This dataset categorizes crimes into property and violent crimes\n",
    "and includes variables such as state, year, population, and specific crime counts such as\n",
    "burglary, murder, and motor vehicle-related crimes. By examining the relationship\n",
    "between crime rates and insurance costs, we can identify broader societal factors\n",
    "influencing insurance pricing strategies."
   ]
  },
  {
   "cell_type": "markdown",
   "id": "5df6e127-adfb-4522-957a-cf19617f84b3",
   "metadata": {},
   "source": [
    "Through statistical analysis and regression modeling, this study will provide valuable\n",
    "insights into how different risk factors contribute to insurance costs. The findings are\n",
    "expected not only to advance academic understanding but also to inform practical\n",
    "strategies for pricing insurance products, ultimately fostering a more equitable and\n",
    "effective insurance market."
   ]
  },
  {
   "cell_type": "markdown",
   "id": "a32bf807-23b8-4742-8295-7ee19e70567b",
   "metadata": {},
   "source": [
    "**RESEARCH QUESTIONS (DRAFT)**\n",
    "\n",
    "RESEARCH QUESTION: What aggregate factors contribute to the average insurance costs?\n",
    "\n",
    "Although car insurance costs vary between individuals based on their attributes (eg.\n",
    " age, experience, etc.) to what extent are average car insurance costs correlate with more general statistics (eg. the amount of bad drivers in a state or the amount of car thefts that goes on in a state)?\n",
    "\n",
    "Further questions for investigation:\n",
    "Does per capita bad drivers / accidents / theft etc. correlate with higher insurance prices more than the nominal values of these variables?\n",
    "Do insurance firms adjust their perception of risk based on the concentration of events in the area or do they make decisions based on the raw number occurrences of these factors?\n",
    "What are the different impacts on full insurance coverage price / minimum insurance coverage price?\n",
    "Hypothesis: the minimum insurance coverage price may be less influenced by these negative factors because they are less of a risk, verify this hypothesis with regression\n"
   ]
  },
  {
   "cell_type": "markdown",
   "id": "4a3f2064-a307-4e42-998b-fd2a91236df3",
   "metadata": {},
   "source": [
    "**OUTLINE OF PROJECT CONTENT (DRAFT)**\n",
    "\n",
    "-Mapping for insurance data (visualization - maybe implement interactivity)\n",
    "\n",
    "\n",
    "-Scatter plot between average insurance prices and the identified variables\n",
    "\n",
    "\n",
    "-Regression using the identified variables, prediction analysis\n",
    "\n",
    "Extension:\n",
    "Doing separate analysis for maximum coverage & minimum coverage price, to see if the identified variables correlate with minimum coverage price less than maximum coverage price\n"
   ]
  },
  {
   "cell_type": "markdown",
   "id": "71dce2d2-9911-4a9c-84e9-71a7b252feac",
   "metadata": {},
   "source": [
    "<h1>Loading Packages & Datasets</h1>"
   ]
  },
  {
   "cell_type": "code",
   "execution_count": null,
   "id": "bdcf6a37-3c7f-4392-8930-9f2ffd31ba4f",
   "metadata": {
    "tags": []
   },
   "outputs": [
    {
     "name": "stdout",
     "output_type": "stream",
     "text": [
      "Collecting fiona\n",
      "  Using cached fiona-1.9.6-cp310-cp310-manylinux2014_x86_64.whl (15.7 MB)\n",
      "Collecting geopandas\n",
      "  Using cached geopandas-0.14.3-py3-none-any.whl (1.1 MB)\n",
      "Collecting xgboost\n",
      "  Using cached xgboost-2.0.3-py3-none-manylinux2014_x86_64.whl (297.1 MB)\n",
      "Collecting gensim\n",
      "  Using cached gensim-4.3.2-cp310-cp310-manylinux_2_17_x86_64.manylinux2014_x86_64.whl (26.5 MB)\n",
      "Collecting pyLDAvis\n",
      "  Using cached pyLDAvis-3.4.1-py3-none-any.whl (2.6 MB)\n",
      "Collecting descartes\n",
      "  Using cached descartes-1.1.0-py3-none-any.whl (5.8 kB)\n",
      "Collecting mapclassify\n",
      "  Using cached mapclassify-2.6.1-py3-none-any.whl (38 kB)\n",
      "Collecting opendatasets\n",
      "  Using cached opendatasets-0.1.22-py3-none-any.whl (15 kB)\n",
      "Requirement already satisfied: click~=8.0 in /opt/conda/lib/python3.10/site-packages (from fiona) (8.1.3)\n",
      "Collecting click-plugins>=1.0\n",
      "  Using cached click_plugins-1.1.1-py2.py3-none-any.whl (7.5 kB)\n",
      "Collecting cligj>=0.5\n",
      "  Using cached cligj-0.7.2-py3-none-any.whl (7.1 kB)\n",
      "Requirement already satisfied: certifi in /opt/conda/lib/python3.10/site-packages (from fiona) (2022.12.7)\n",
      "Requirement already satisfied: attrs>=19.2.0 in /opt/conda/lib/python3.10/site-packages (from fiona) (22.2.0)\n",
      "Requirement already satisfied: six in /opt/conda/lib/python3.10/site-packages (from fiona) (1.16.0)\n",
      "Collecting shapely>=1.8.0\n",
      "  Using cached shapely-2.0.4-cp310-cp310-manylinux_2_17_x86_64.manylinux2014_x86_64.whl (2.5 MB)\n",
      "Requirement already satisfied: packaging in /opt/conda/lib/python3.10/site-packages (from geopandas) (23.0)\n",
      "Collecting pyproj>=3.3.0\n",
      "  Using cached pyproj-3.6.1-cp310-cp310-manylinux_2_17_x86_64.manylinux2014_x86_64.whl (8.3 MB)\n",
      "Requirement already satisfied: pandas>=1.4.0 in /opt/conda/lib/python3.10/site-packages (from geopandas) (1.5.3)\n",
      "Requirement already satisfied: numpy in /opt/conda/lib/python3.10/site-packages (from xgboost) (1.23.5)\n",
      "Requirement already satisfied: scipy in /opt/conda/lib/python3.10/site-packages (from xgboost) (1.10.0)\n",
      "Collecting smart-open>=1.8.1\n",
      "  Using cached smart_open-7.0.4-py3-none-any.whl (61 kB)\n",
      "Collecting pandas>=1.4.0\n",
      "  Using cached pandas-2.2.2-cp310-cp310-manylinux_2_17_x86_64.manylinux2014_x86_64.whl (13.0 MB)\n",
      "Requirement already satisfied: numexpr in /opt/conda/lib/python3.10/site-packages (from pyLDAvis) (2.8.3)\n",
      "Requirement already satisfied: scikit-learn>=1.0.0 in /opt/conda/lib/python3.10/site-packages (from pyLDAvis) (1.2.0)\n",
      "Requirement already satisfied: jinja2 in /opt/conda/lib/python3.10/site-packages (from pyLDAvis) (3.1.2)\n",
      "Requirement already satisfied: joblib>=1.2.0 in /opt/conda/lib/python3.10/site-packages (from pyLDAvis) (1.2.0)\n",
      "Collecting numpy\n",
      "  Using cached numpy-1.26.4-cp310-cp310-manylinux_2_17_x86_64.manylinux2014_x86_64.whl (18.2 MB)\n",
      "Collecting funcy\n",
      "  Using cached funcy-2.0-py2.py3-none-any.whl (30 kB)\n",
      "Requirement already satisfied: setuptools in /opt/conda/lib/python3.10/site-packages (from pyLDAvis) (67.6.1)\n",
      "Requirement already satisfied: matplotlib in /opt/conda/lib/python3.10/site-packages (from descartes) (3.6.3)\n",
      "Requirement already satisfied: networkx>=2.7 in /opt/conda/lib/python3.10/site-packages (from mapclassify) (2.8.8)\n",
      "Collecting kaggle\n",
      "  Using cached kaggle-1.6.12-py3-none-any.whl\n",
      "Requirement already satisfied: tqdm in /opt/conda/lib/python3.10/site-packages (from opendatasets) (4.64.1)\n",
      "Requirement already satisfied: pytz>=2020.1 in /opt/conda/lib/python3.10/site-packages (from pandas>=1.4.0->geopandas) (2022.7.1)\n",
      "Requirement already satisfied: python-dateutil>=2.8.2 in /opt/conda/lib/python3.10/site-packages (from pandas>=1.4.0->geopandas) (2.8.2)\n",
      "Requirement already satisfied: tzdata>=2022.7 in /opt/conda/lib/python3.10/site-packages (from pandas>=1.4.0->geopandas) (2022.7)\n",
      "Requirement already satisfied: threadpoolctl>=2.0.0 in /opt/conda/lib/python3.10/site-packages (from scikit-learn>=1.0.0->pyLDAvis) (3.1.0)\n",
      "Requirement already satisfied: wrapt in /opt/conda/lib/python3.10/site-packages (from smart-open>=1.8.1->gensim) (1.15.0)\n",
      "Requirement already satisfied: MarkupSafe>=2.0 in /opt/conda/lib/python3.10/site-packages (from jinja2->pyLDAvis) (2.1.2)\n",
      "Collecting python-slugify\n",
      "  Using cached python_slugify-8.0.4-py2.py3-none-any.whl (10 kB)\n",
      "Requirement already satisfied: requests in /opt/conda/lib/python3.10/site-packages (from kaggle->opendatasets) (2.28.2)\n",
      "Requirement already satisfied: bleach in /opt/conda/lib/python3.10/site-packages (from kaggle->opendatasets) (4.1.0)\n",
      "Requirement already satisfied: urllib3 in /opt/conda/lib/python3.10/site-packages (from kaggle->opendatasets) (1.26.14)\n",
      "Collecting certifi\n",
      "  Using cached certifi-2024.2.2-py3-none-any.whl (163 kB)\n",
      "Requirement already satisfied: pyparsing>=2.2.1 in /opt/conda/lib/python3.10/site-packages (from matplotlib->descartes) (3.0.9)\n",
      "Requirement already satisfied: kiwisolver>=1.0.1 in /opt/conda/lib/python3.10/site-packages (from matplotlib->descartes) (1.4.4)\n",
      "Requirement already satisfied: pillow>=6.2.0 in /opt/conda/lib/python3.10/site-packages (from matplotlib->descartes) (9.2.0)\n",
      "Requirement already satisfied: fonttools>=4.22.0 in /opt/conda/lib/python3.10/site-packages (from matplotlib->descartes) (4.38.0)\n",
      "Requirement already satisfied: contourpy>=1.0.1 in /opt/conda/lib/python3.10/site-packages (from matplotlib->descartes) (1.0.7)\n",
      "Requirement already satisfied: cycler>=0.10 in /opt/conda/lib/python3.10/site-packages (from matplotlib->descartes) (0.11.0)\n",
      "Requirement already satisfied: webencodings in /opt/conda/lib/python3.10/site-packages (from bleach->kaggle->opendatasets) (0.5.1)\n",
      "Collecting text-unidecode>=1.3\n",
      "  Using cached text_unidecode-1.3-py2.py3-none-any.whl (78 kB)\n",
      "Requirement already satisfied: idna<4,>=2.5 in /opt/conda/lib/python3.10/site-packages (from requests->kaggle->opendatasets) (3.4)\n",
      "Requirement already satisfied: charset-normalizer<4,>=2 in /opt/conda/lib/python3.10/site-packages (from requests->kaggle->opendatasets) (2.1.1)\n",
      "Installing collected packages: text-unidecode, funcy, smart-open, python-slugify, numpy, cligj, click-plugins, certifi, shapely, pyproj, pandas, fiona, xgboost, kaggle, geopandas, gensim, pyLDAvis, opendatasets, mapclassify, descartes\n",
      "  Attempting uninstall: numpy\n",
      "    Found existing installation: numpy 1.23.5\n",
      "    Uninstalling numpy-1.23.5:\n",
      "      Successfully uninstalled numpy-1.23.5\n",
      "  Attempting uninstall: certifi\n",
      "    Found existing installation: certifi 2022.12.7\n",
      "    Uninstalling certifi-2022.12.7:\n",
      "      Successfully uninstalled certifi-2022.12.7\n",
      "  Attempting uninstall: pandas\n",
      "    Found existing installation: pandas 1.5.3\n",
      "    Uninstalling pandas-1.5.3:\n",
      "      Successfully uninstalled pandas-1.5.3\n"
     ]
    }
   ],
   "source": [
    "! pip install fiona geopandas xgboost gensim pyLDAvis descartes mapclassify opendatasets "
   ]
  },
  {
   "cell_type": "code",
   "execution_count": null,
   "id": "265a0fcb-e393-4f7d-ab41-1fe502436d23",
   "metadata": {
    "tags": []
   },
   "outputs": [],
   "source": [
    "! pip install geopandas opendatasets"
   ]
  },
  {
   "cell_type": "code",
   "execution_count": null,
   "id": "b584fb87-36cd-42d5-92c9-47231911f15a",
   "metadata": {
    "tags": []
   },
   "outputs": [],
   "source": [
    "! pip install folium requests"
   ]
  },
  {
   "cell_type": "code",
   "execution_count": null,
   "id": "5e5b6688-c156-494e-bb33-4be625e700c1",
   "metadata": {
    "tags": []
   },
   "outputs": [],
   "source": [
    "import geopandas as gpd\n",
    "import matplotlib.pyplot as plt\n",
    "import pandas as pd\n",
    "import folium\n",
    "from shapely.geometry import Point\n",
    "import requests\n",
    "%matplotlib inline\n",
    "\n",
    "import numpy as np\n",
    "import opendatasets as od\n",
    "from sklearn import linear_model\n"
   ]
  },
  {
   "cell_type": "code",
   "execution_count": null,
   "id": "45f8dc15-6485-4635-83e5-27f803149b00",
   "metadata": {
    "tags": []
   },
   "outputs": [],
   "source": [
    "#set seed\n",
    "np.random.seed(123)"
   ]
  },
  {
   "cell_type": "code",
   "execution_count": null,
   "id": "4f20099f-2089-4239-bd8d-e170a03ab03c",
   "metadata": {
    "tags": []
   },
   "outputs": [],
   "source": [
    "#load datasets\n",
    "\n",
    "bad_drivers = pd.read_csv(\"https://raw.githubusercontent.com/mish-salt/323-Group-Project/main/bad-drivers.csv\").set_index(\"State\")\n",
    "#bad drivers by state dataset\n",
    "\n",
    "insurance_cost = pd.read_csv(\"https://raw.githubusercontent.com/mish-salt/323-Group-Project/main/auto_insurance_cost.csv\").set_index(\"state\")\n",
    "#insurance cost by state dataset\n",
    "\n",
    "state_crime = pd.read_csv(\"https://raw.githubusercontent.com/mish-salt/323-Group-Project/main/state_crime.csv\")\n",
    "#Crimes by state - includes a column for car theft\n",
    "\n"
   ]
  },
  {
   "cell_type": "code",
   "execution_count": null,
   "id": "51aeee12-1047-497c-8b35-fc56523736c2",
   "metadata": {
    "tags": []
   },
   "outputs": [],
   "source": [
    "# #The dataset for car accidents is too large - here we import it directly from Kaggle\n",
    "accident_data = 'https://www.kaggle.com/datasets/sobhanmoosavi/us-accidents'\n",
    "od.download(accident_data) #download dataset file\n",
    "\n",
    "#load in dataset\n",
    "us_accidents = pd.read_csv('us-accidents/US_Accidents_March23.csv', usecols = [\"State\", \"Severity\"]) #The dataset is too large - select only the variables of interest\n"
   ]
  },
  {
   "cell_type": "markdown",
   "id": "62ab2be1-6ad9-4607-bd3f-0b4d32be541c",
   "metadata": {
    "tags": []
   },
   "source": [
    "<h1>Viewing Datasets</h1>"
   ]
  },
  {
   "cell_type": "code",
   "execution_count": null,
   "id": "f0c14b9f-4166-41da-af19-aa357f558406",
   "metadata": {
    "tags": []
   },
   "outputs": [],
   "source": [
    "bad_drivers.head()"
   ]
  },
  {
   "cell_type": "code",
   "execution_count": null,
   "id": "daa7748f-f7a2-4d27-9ca5-bb7cdb0ba30d",
   "metadata": {
    "tags": []
   },
   "outputs": [],
   "source": [
    "insurance_cost.head()"
   ]
  },
  {
   "cell_type": "code",
   "execution_count": null,
   "id": "ab56b655-cad1-49c1-bd41-8be8166c3805",
   "metadata": {
    "tags": []
   },
   "outputs": [],
   "source": [
    "state_crime.head()"
   ]
  },
  {
   "cell_type": "code",
   "execution_count": null,
   "id": "9ece7a79-c645-4419-8253-d5eb7435bb2a",
   "metadata": {
    "tags": []
   },
   "outputs": [],
   "source": [
    "us_accidents.head()"
   ]
  },
  {
   "cell_type": "markdown",
   "id": "845bd68c-c456-4208-bcfa-7ea595a3e530",
   "metadata": {},
   "source": [
    "<h1>Data Wrangling</h1>"
   ]
  },
  {
   "cell_type": "markdown",
   "id": "36bfda30-e1fb-4ff6-9cad-f788699b97fd",
   "metadata": {},
   "source": [
    "For visualizing the correlation between these variables & insurance prices"
   ]
  },
  {
   "cell_type": "code",
   "execution_count": null,
   "id": "867c8c38-8708-497c-adcd-6006e01fb3a1",
   "metadata": {
    "tags": []
   },
   "outputs": [],
   "source": [
    "#merging bad driver data with insurance data\n",
    "df1 = pd.merge(insurance_cost, bad_drivers, left_on = \"state\", right_index = True, how = \"right\")\n",
    "#clean the crime dataset, use only obeservations from 2019, the closest time to 2020 in the dataset\n",
    "crime_data = state_crime.loc[state_crime.Year == 2019].loc[:, [\"Data.Rates.Property.Motor\", \"State\"]]\n",
    "\n",
    "\n",
    "#continue to merge it with the rate of stolen cars from the crime dataset\n",
    "\n",
    "\n",
    "df2 = pd.merge(df1, crime_data, left_on = \"state\", right_on = \"State\", how = \"right\").set_index(\"State\")\n",
    "\n",
    "\n",
    "\n",
    "\n",
    "\n",
    "plotting_data = df2.rename(columns = {\"Data.Rates.Property.Motor\":\"stolen_cars_per_100k\"}).dropna() #the variable refers to the number of stolen cars per 100,000 population\n",
    "\n",
    "plotting_data.head()"
   ]
  },
  {
   "cell_type": "markdown",
   "id": "ba800aaa-c2e5-4fbe-bb0e-791a782d73ab",
   "metadata": {},
   "source": [
    "<h1>Mapping Insurance Prices by State</h1>"
   ]
  },
  {
   "cell_type": "code",
   "execution_count": null,
   "id": "0a7c5a70-8716-4665-a59c-ca4fc579267a",
   "metadata": {
    "tags": []
   },
   "outputs": [],
   "source": [
    "#getting geojsondata\n",
    "us_json = requests.get(\n",
    "    \"https://raw.githubusercontent.com/python-visualization/folium-example-data/main/us_states.json\"\n",
    ").json()\n"
   ]
  },
  {
   "cell_type": "markdown",
   "id": "1c0421fe-5283-4080-b3a5-943a73851bbd",
   "metadata": {},
   "source": [
    "Here we plot the average full coverage insurance price on year 2020"
   ]
  },
  {
   "cell_type": "code",
   "execution_count": null,
   "id": "3972a4bc-e8e8-47f1-a98a-a64eb4c8dbff",
   "metadata": {
    "tags": []
   },
   "outputs": [],
   "source": [
    "\n",
    "m = folium.Map(locations = [35.3, -97.6], tiles = \"CartoDB positron\", zoom_start = 8, min_zoom = 2) #initializing interactive map\n",
    "\n",
    "#mapping US insurance data - color legend referrs to values in the \"full_coverage\" column in insurance data\n",
    "insurance_map = folium.Choropleth(us_json,\n",
    "                 data = insurance_cost,\n",
    "                 columns = [insurance_cost.index, \"full_coverage\"],\n",
    "                 key_on = \"feature.properties.name\",\n",
    "                 fill_color = \"YlGnBu\",\n",
    "                 name = \"Full Coverage\",\n",
    "                 legend_name = \"Full Coverage Insurance Price (USD) in 2020\",\n",
    "                bins = list(range(1000, 9500, 200)),\n",
    "                 fill_opacity = 0.7).add_to(m)\n",
    "\n",
    "m"
   ]
  },
  {
   "cell_type": "markdown",
   "id": "bbdc03dd-6173-4c69-8cd4-0497d1d72237",
   "metadata": {},
   "source": [
    "<h1>Visualizing Correlation between Independent Variables and State Average Insurance Prices</h1>"
   ]
  },
  {
   "cell_type": "markdown",
   "id": "130c9d84-32c6-42e1-9131-f45f96e2fa8b",
   "metadata": {
    "tags": []
   },
   "source": [
    "<h2>Part 1: Variables from the Bad Drivers Dataset</h2>"
   ]
  },
  {
   "cell_type": "code",
   "execution_count": null,
   "id": "cde52709-8e63-4f90-ab66-8a14e9f714e8",
   "metadata": {
    "tags": []
   },
   "outputs": [],
   "source": [
    "plotting_data.head()\n"
   ]
  },
  {
   "cell_type": "code",
   "execution_count": null,
   "id": "d23c44c0-ad98-4ae8-ab37-96a081b7bddb",
   "metadata": {
    "tags": []
   },
   "outputs": [],
   "source": [
    "x1 = plotting_data['Number of drivers involved in fatal collisions per billion miles']\n",
    "y = plotting_data['full_coverage']\n",
    "\n",
    "fig1, ax1 = plt.subplots()\n",
    "\n",
    "# Plot the data as a scatter plot\n",
    "ax1.scatter(x1, y)\n",
    "\n",
    "# Set the title and labels\n",
    "ax1.set_title('Car Insurance Premiums V.S Number of drivers involved in fatal collisions per billion miles')\n",
    "ax1.set_xlabel('number of drivers involved in fatal collisions')\n",
    "ax1.set_ylabel('average full coverage insurance price')\n",
    "\n",
    "# Show the plot\n",
    "plt.show()\n",
    "\n",
    "\n",
    "\n",
    "x2 = plotting_data['Number of drivers involved in fatal collisions per billion miles']\n",
    "\n",
    "\n",
    "fig2, ax2 = plt.subplots()\n",
    "\n",
    "# Plot the data as a scatter plot\n",
    "ax2.scatter(x2, y)\n",
    "\n",
    "# Set the title and labels\n",
    "ax2.set_title('Car Insurance Premiums V.S Number of drivers involved in fatal collisions per billion mileage')\n",
    "ax2.set_xlabel('Number of drivers involved in fatal collisions per billion mileage')\n",
    "ax2.set_ylabel('average full coverage insurance price')\n",
    "\n",
    "# Show the plot\n",
    "plt.show()\n",
    "\n",
    "\n",
    "\n",
    "\n",
    "\n",
    "\n",
    "x3 = plotting_data['Percentage Of Drivers Involved In Fatal Collisions Who Were Speeding']\n",
    "\n",
    "fig3, ax3 = plt.subplots()\n",
    "\n",
    "# Plot the data as a scatter plot\n",
    "ax3.scatter(x3, y)\n",
    "\n",
    "# Set the title and labelsPercentage Of Drivers Involved In Fatal Collisions Who Were Speeding\n",
    "ax3.set_title('Car Insurance Premiums V.S Percentage Of Drivers Involved In Fatal Collisions Who Were Speeding')\n",
    "ax3.set_xlabel('Percentage Of Drivers Involved In Fatal Collisions Who Were Speeding')\n",
    "ax3.set_ylabel('average full coverage insurance price')\n",
    "\n",
    "# Show the plot\n",
    "plt.show()\n",
    "\n",
    "\n",
    "\n",
    "\n",
    "\n",
    "x4 = plotting_data['Percentage Of Drivers Involved In Fatal Collisions Who Were Alcohol-Impaired']\n",
    "\n",
    "\n",
    "fig4, ax4 = plt.subplots()\n",
    "\n",
    "# Plot the data as a scatter plot\n",
    "ax4.scatter(x4, y)\n",
    "\n",
    "# Set the title and labels\n",
    "ax4.set_title('Car Insurance Premiums V.S Percentage Of Drivers Involved In Fatal Collisions Who Were Alcohol-Impaired')\n",
    "ax4.set_xlabel('Percentage Of Drivers Involved In Fatal Collisions Who Were Alcohol-Impaired')\n",
    "ax4.set_ylabel('average full coverage insurance price')\n",
    "\n",
    "# Show the plot\n",
    "plt.show()\n",
    "\n",
    "\n",
    "\n",
    "x5 = plotting_data['Percentage Of Drivers Involved In Fatal Collisions Who Were Not Distracted']\n",
    "\n",
    "\n",
    "fig5, ax5 = plt.subplots()\n",
    "\n",
    "# Plot the data as a scatter plot\n",
    "ax5.scatter(x5, y)\n",
    "\n",
    "# Set the title and labels\n",
    "ax5.set_title('Car Insurance Premiums V.S Percentage Of Drivers Involved In Fatal Collisions Who Were Not Distracted')\n",
    "ax5.set_xlabel('Percentage Of Drivers Involved In Fatal Collisions Who Were Not Distracted')\n",
    "ax5.set_ylabel('average full coverage insurance price')\n",
    "\n",
    "# Show the plot\n",
    "plt.show()\n",
    "\n",
    "\n",
    "\n",
    "x6 = plotting_data['Percentage Of Drivers Involved In Fatal Collisions Who Had Not Been Involved In Any Previous Accidents']\n",
    "\n",
    "\n",
    "fig6, ax6 = plt.subplots()\n",
    "\n",
    "# Plot the data as a scatter plot\n",
    "ax6.scatter(x6, y)\n",
    "\n",
    "# Set the title and labels\n",
    "ax6.set_title('Car Insurance Premiums V.S Percentage Of Drivers Involved In Fatal Collisions Who Had Not Been Involved In Any Previous Accidents')\n",
    "ax6.set_xlabel('Percentage Of Drivers Involved In Fatal Collisions Who Had Not Been Involved In Any Previous Accidents')\n",
    "ax6.set_ylabel('average full coverage insurance price')\n",
    "\n",
    "# Show the plot\n",
    "plt.show()\n",
    "\n",
    "x7 = plotting_data['stolen_cars_per_100k']\n",
    "\n",
    "\n",
    "fig7, ax7 = plt.subplots()\n",
    "\n",
    "# Plot the data as a scatter plot\n",
    "ax7.scatter(x7, y)\n",
    "\n",
    "# Set the title and labels\n",
    "ax7.set_title('Car Insurance Premiums V.S Stolen Cars per 100,000 Population')\n",
    "ax7.set_xlabel('Stolen Cars per 100,000 people')\n",
    "ax7.set_ylabel('average full coverage insurance price')\n",
    "\n",
    "# Show the plot\n",
    "plt.show()\n",
    "\n",
    "\n"
   ]
  },
  {
   "cell_type": "markdown",
   "id": "145636bb-c254-4ae9-a4f3-f50617ba6f97",
   "metadata": {
    "tags": []
   },
   "source": [
    "<h1>Regression Analysis</h1>"
   ]
  },
  {
   "cell_type": "markdown",
   "id": "6fd59f77-35dc-495b-b795-77ecf58c8e43",
   "metadata": {},
   "source": [
    "<h3>Part 1: Regressing on full coverage insurance price vs minimum coverage regression price</h3>"
   ]
  },
  {
   "cell_type": "markdown",
   "id": "8f656dba-fb81-4349-8528-a816a0aad4fd",
   "metadata": {},
   "source": [
    "We begin by using the identified variables in predicting average full coverage insurance prices"
   ]
  },
  {
   "cell_type": "code",
   "execution_count": 97,
   "id": "81d435b3-0b80-437f-b017-45d902c12fa6",
   "metadata": {
    "tags": []
   },
   "outputs": [
    {
     "data": {
      "text/html": [
       "<div>\n",
       "<style scoped>\n",
       "    .dataframe tbody tr th:only-of-type {\n",
       "        vertical-align: middle;\n",
       "    }\n",
       "\n",
       "    .dataframe tbody tr th {\n",
       "        vertical-align: top;\n",
       "    }\n",
       "\n",
       "    .dataframe thead th {\n",
       "        text-align: right;\n",
       "    }\n",
       "</style>\n",
       "<table border=\"1\" class=\"dataframe\">\n",
       "  <thead>\n",
       "    <tr style=\"text-align: right;\">\n",
       "      <th></th>\n",
       "      <th>Number of drivers involved in fatal collisions per billion miles</th>\n",
       "      <th>Percentage Of Drivers Involved In Fatal Collisions Who Were Speeding</th>\n",
       "      <th>Percentage Of Drivers Involved In Fatal Collisions Who Were Alcohol-Impaired</th>\n",
       "      <th>Percentage Of Drivers Involved In Fatal Collisions Who Were Not Distracted</th>\n",
       "      <th>Percentage Of Drivers Involved In Fatal Collisions Who Had Not Been Involved In Any Previous Accidents</th>\n",
       "      <th>Losses incurred by insurance companies for collisions per insured driver ($)</th>\n",
       "      <th>stolen_cars_per_100k</th>\n",
       "    </tr>\n",
       "    <tr>\n",
       "      <th>State</th>\n",
       "      <th></th>\n",
       "      <th></th>\n",
       "      <th></th>\n",
       "      <th></th>\n",
       "      <th></th>\n",
       "      <th></th>\n",
       "      <th></th>\n",
       "    </tr>\n",
       "  </thead>\n",
       "  <tbody>\n",
       "    <tr>\n",
       "      <th>Alabama</th>\n",
       "      <td>18.8</td>\n",
       "      <td>39.0</td>\n",
       "      <td>30.0</td>\n",
       "      <td>96.0</td>\n",
       "      <td>80.0</td>\n",
       "      <td>145.08</td>\n",
       "      <td>256.5</td>\n",
       "    </tr>\n",
       "    <tr>\n",
       "      <th>Alaska</th>\n",
       "      <td>18.1</td>\n",
       "      <td>41.0</td>\n",
       "      <td>25.0</td>\n",
       "      <td>90.0</td>\n",
       "      <td>94.0</td>\n",
       "      <td>133.93</td>\n",
       "      <td>357.7</td>\n",
       "    </tr>\n",
       "    <tr>\n",
       "      <th>Arizona</th>\n",
       "      <td>18.6</td>\n",
       "      <td>35.0</td>\n",
       "      <td>28.0</td>\n",
       "      <td>84.0</td>\n",
       "      <td>96.0</td>\n",
       "      <td>110.35</td>\n",
       "      <td>249.4</td>\n",
       "    </tr>\n",
       "    <tr>\n",
       "      <th>Arkansas</th>\n",
       "      <td>22.4</td>\n",
       "      <td>18.0</td>\n",
       "      <td>26.0</td>\n",
       "      <td>94.0</td>\n",
       "      <td>95.0</td>\n",
       "      <td>142.39</td>\n",
       "      <td>245.9</td>\n",
       "    </tr>\n",
       "    <tr>\n",
       "      <th>California</th>\n",
       "      <td>12.0</td>\n",
       "      <td>35.0</td>\n",
       "      <td>28.0</td>\n",
       "      <td>91.0</td>\n",
       "      <td>89.0</td>\n",
       "      <td>165.63</td>\n",
       "      <td>358.8</td>\n",
       "    </tr>\n",
       "  </tbody>\n",
       "</table>\n",
       "</div>"
      ],
      "text/plain": [
       "            Number of drivers involved in fatal collisions per billion miles  \\\n",
       "State                                                                          \n",
       "Alabama                                                  18.8                  \n",
       "Alaska                                                   18.1                  \n",
       "Arizona                                                  18.6                  \n",
       "Arkansas                                                 22.4                  \n",
       "California                                               12.0                  \n",
       "\n",
       "            Percentage Of Drivers Involved In Fatal Collisions Who Were Speeding  \\\n",
       "State                                                                              \n",
       "Alabama                                                  39.0                      \n",
       "Alaska                                                   41.0                      \n",
       "Arizona                                                  35.0                      \n",
       "Arkansas                                                 18.0                      \n",
       "California                                               35.0                      \n",
       "\n",
       "            Percentage Of Drivers Involved In Fatal Collisions Who Were Alcohol-Impaired  \\\n",
       "State                                                                                      \n",
       "Alabama                                                  30.0                              \n",
       "Alaska                                                   25.0                              \n",
       "Arizona                                                  28.0                              \n",
       "Arkansas                                                 26.0                              \n",
       "California                                               28.0                              \n",
       "\n",
       "            Percentage Of Drivers Involved In Fatal Collisions Who Were Not Distracted  \\\n",
       "State                                                                                    \n",
       "Alabama                                                  96.0                            \n",
       "Alaska                                                   90.0                            \n",
       "Arizona                                                  84.0                            \n",
       "Arkansas                                                 94.0                            \n",
       "California                                               91.0                            \n",
       "\n",
       "            Percentage Of Drivers Involved In Fatal Collisions Who Had Not Been Involved In Any Previous Accidents  \\\n",
       "State                                                                                                                \n",
       "Alabama                                                  80.0                                                        \n",
       "Alaska                                                   94.0                                                        \n",
       "Arizona                                                  96.0                                                        \n",
       "Arkansas                                                 95.0                                                        \n",
       "California                                               89.0                                                        \n",
       "\n",
       "            Losses incurred by insurance companies for collisions per insured driver ($)  \\\n",
       "State                                                                                      \n",
       "Alabama                                                145.08                              \n",
       "Alaska                                                 133.93                              \n",
       "Arizona                                                110.35                              \n",
       "Arkansas                                               142.39                              \n",
       "California                                             165.63                              \n",
       "\n",
       "            stolen_cars_per_100k  \n",
       "State                             \n",
       "Alabama                    256.5  \n",
       "Alaska                     357.7  \n",
       "Arizona                    249.4  \n",
       "Arkansas                   245.9  \n",
       "California                 358.8  "
      ]
     },
     "execution_count": 97,
     "metadata": {},
     "output_type": "execute_result"
    }
   ],
   "source": [
    "from sklearn import linear_model\n",
    "#In the plotting section, we defined y to be the averagefull insurance coverage price\n",
    "\n",
    "#selecting regressor variables\n",
    "X = plotting_data.iloc[:,5:].drop(\"Car Insurance Premiums ($)\", axis = 1)\n",
    "\n",
    "X.head()\n",
    "\n"
   ]
  },
  {
   "cell_type": "code",
   "execution_count": 105,
   "id": "437816bf-d06f-4a84-a7ca-d8c4eec51d47",
   "metadata": {
    "tags": []
   },
   "outputs": [],
   "source": [
    "#defining model\n",
    "lm = linear_model.LinearRegression()\n",
    "#fitting model\n",
    "lm.fit(X, y)\n",
    "\n",
    "\n",
    "colors = ['#165aa7', '#cb495c', '#fec630', '#bb60d5', '#f47915', '#06ab54', '#002070', '#b27d12', '#007030']\n",
    "\n",
    "def scatter_model(mod, X, ax=None, color=colors[1],  x=\"Number of drivers involved in fatal collisions per billion miles\"):\n",
    "    if ax is None:\n",
    "        _, ax = plt.subplots()\n",
    "\n",
    "    ax.scatter(X[x], mod.predict(X), c=color, alpha=0.25, s=1)\n",
    "    return ax\n",
    "\n",
    "\n",
    "\n",
    "\n",
    "\n",
    "\n",
    "\n",
    "\n"
   ]
  },
  {
   "cell_type": "code",
   "execution_count": 106,
   "id": "65621f7b-5f5f-49c2-be0c-0f586ab17445",
   "metadata": {
    "tags": []
   },
   "outputs": [
    {
     "data": {
      "image/png": "[encoded data removed]",
      "text/plain": [
       "<Figure size 800x600 with 1 Axes>"
      ]
     },
     "metadata": {},
     "output_type": "display_data"
    }
   ],
   "source": [
    "#plotting predictions against real values:\n",
    "y_pred = lm.predict(X)\n",
    "\n",
    "# Plotting the scatter plot\n",
    "plt.figure(figsize=(8, 6))\n",
    "plt.scatter(y, y_pred, color='blue')\n",
    "plt.xlabel('Actual Average Full Coverage Price (USD) ')\n",
    "plt.ylabel('Predicted Average Full Coverage Price (USD)')\n",
    "plt.title('Actual vs Average Full Coverage Price (USD)')\n",
    "plt.grid(True)\n",
    "plt.show()\n"
   ]
  },
  {
   "cell_type": "code",
   "execution_count": 107,
   "id": "9d59a64a-3fef-4cf9-96b4-7655725e01c9",
   "metadata": {
    "tags": []
   },
   "outputs": [
    {
     "data": {
      "text/plain": [
       "array([ -6.12267554, -12.47817943, -13.0409377 ,   4.6105393 ,\n",
       "       -29.35522621,  13.46551272,   0.66532466])"
      ]
     },
     "execution_count": 107,
     "metadata": {},
     "output_type": "execute_result"
    }
   ],
   "source": [
    "#storing coefficient prices for later\n",
    "full_price_coef = lm.coef_ \n",
    "full_price_coef"
   ]
  },
  {
   "cell_type": "markdown",
   "id": "e34a8178-b05a-47e5-a355-2808f116899d",
   "metadata": {},
   "source": [
    "Next, we run the same regression on minimum coverage prices to see if the independent variables are more effective or less effective in predicting them, as well as if the magnitude of the coefficients change.\n",
    "Our hypothesis is that since minimum insurance coverage entails less risk for insurance companies, the aggregate data we have will not be as effective in predicting it, similarly the magnitude of the variable coefficients will not be as large."
   ]
  },
  {
   "cell_type": "code",
   "execution_count": 108,
   "id": "b6b8b52e-df4c-49b9-818a-8fbc8aadc519",
   "metadata": {
    "tags": []
   },
   "outputs": [
    {
     "data": {
      "text/html": [
       "<style>#sk-container-id-8 {color: black;background-color: white;}#sk-container-id-8 pre{padding: 0;}#sk-container-id-8 div.sk-toggleable {background-color: white;}#sk-container-id-8 label.sk-toggleable__label {cursor: pointer;display: block;width: 100%;margin-bottom: 0;padding: 0.3em;box-sizing: border-box;text-align: center;}#sk-container-id-8 label.sk-toggleable__label-arrow:before {content: \"▸\";float: left;margin-right: 0.25em;color: #696969;}#sk-container-id-8 label.sk-toggleable__label-arrow:hover:before {color: black;}#sk-container-id-8 div.sk-estimator:hover label.sk-toggleable__label-arrow:before {color: black;}#sk-container-id-8 div.sk-toggleable__content {max-height: 0;max-width: 0;overflow: hidden;text-align: left;background-color: #f0f8ff;}#sk-container-id-8 div.sk-toggleable__content pre {margin: 0.2em;color: black;border-radius: 0.25em;background-color: #f0f8ff;}#sk-container-id-8 input.sk-toggleable__control:checked~div.sk-toggleable__content {max-height: 200px;max-width: 100%;overflow: auto;}#sk-container-id-8 input.sk-toggleable__control:checked~label.sk-toggleable__label-arrow:before {content: \"▾\";}#sk-container-id-8 div.sk-estimator input.sk-toggleable__control:checked~label.sk-toggleable__label {background-color: #d4ebff;}#sk-container-id-8 div.sk-label input.sk-toggleable__control:checked~label.sk-toggleable__label {background-color: #d4ebff;}#sk-container-id-8 input.sk-hidden--visually {border: 0;clip: rect(1px 1px 1px 1px);clip: rect(1px, 1px, 1px, 1px);height: 1px;margin: -1px;overflow: hidden;padding: 0;position: absolute;width: 1px;}#sk-container-id-8 div.sk-estimator {font-family: monospace;background-color: #f0f8ff;border: 1px dotted black;border-radius: 0.25em;box-sizing: border-box;margin-bottom: 0.5em;}#sk-container-id-8 div.sk-estimator:hover {background-color: #d4ebff;}#sk-container-id-8 div.sk-parallel-item::after {content: \"\";width: 100%;border-bottom: 1px solid gray;flex-grow: 1;}#sk-container-id-8 div.sk-label:hover label.sk-toggleable__label {background-color: #d4ebff;}#sk-container-id-8 div.sk-serial::before {content: \"\";position: absolute;border-left: 1px solid gray;box-sizing: border-box;top: 0;bottom: 0;left: 50%;z-index: 0;}#sk-container-id-8 div.sk-serial {display: flex;flex-direction: column;align-items: center;background-color: white;padding-right: 0.2em;padding-left: 0.2em;position: relative;}#sk-container-id-8 div.sk-item {position: relative;z-index: 1;}#sk-container-id-8 div.sk-parallel {display: flex;align-items: stretch;justify-content: center;background-color: white;position: relative;}#sk-container-id-8 div.sk-item::before, #sk-container-id-8 div.sk-parallel-item::before {content: \"\";position: absolute;border-left: 1px solid gray;box-sizing: border-box;top: 0;bottom: 0;left: 50%;z-index: -1;}#sk-container-id-8 div.sk-parallel-item {display: flex;flex-direction: column;z-index: 1;position: relative;background-color: white;}#sk-container-id-8 div.sk-parallel-item:first-child::after {align-self: flex-end;width: 50%;}#sk-container-id-8 div.sk-parallel-item:last-child::after {align-self: flex-start;width: 50%;}#sk-container-id-8 div.sk-parallel-item:only-child::after {width: 0;}#sk-container-id-8 div.sk-dashed-wrapped {border: 1px dashed gray;margin: 0 0.4em 0.5em 0.4em;box-sizing: border-box;padding-bottom: 0.4em;background-color: white;}#sk-container-id-8 div.sk-label label {font-family: monospace;font-weight: bold;display: inline-block;line-height: 1.2em;}#sk-container-id-8 div.sk-label-container {text-align: center;}#sk-container-id-8 div.sk-container {/* jupyter's `normalize.less` sets `[hidden] { display: none; }` but bootstrap.min.css set `[hidden] { display: none !important; }` so we also need the `!important` here to be able to override the default hidden behavior on the sphinx rendered scikit-learn.org. See: https://github.com/scikit-learn/scikit-learn/issues/21755 */display: inline-block !important;position: relative;}#sk-container-id-8 div.sk-text-repr-fallback {display: none;}</style><div id=\"sk-container-id-8\" class=\"sk-top-container\"><div class=\"sk-text-repr-fallback\"><pre>LinearRegression()</pre><b>In a Jupyter environment, please rerun this cell to show the HTML representation or trust the notebook. <br />On GitHub, the HTML representation is unable to render, please try loading this page with nbviewer.org.</b></div><div class=\"sk-container\" hidden><div class=\"sk-item\"><div class=\"sk-estimator sk-toggleable\"><input class=\"sk-toggleable__control sk-hidden--visually\" id=\"sk-estimator-id-8\" type=\"checkbox\" checked><label for=\"sk-estimator-id-8\" class=\"sk-toggleable__label sk-toggleable__label-arrow\">LinearRegression</label><div class=\"sk-toggleable__content\"><pre>LinearRegression()</pre></div></div></div></div></div>"
      ],
      "text/plain": [
       "LinearRegression()"
      ]
     },
     "execution_count": 108,
     "metadata": {},
     "output_type": "execute_result"
    }
   ],
   "source": [
    "y2 = plotting_data[\"minimum_coverage\"]\n",
    "#defining model\n",
    "lm2 = linear_model.LinearRegression()\n",
    "#fitting model\n",
    "lm2.fit(X, y2)"
   ]
  },
  {
   "cell_type": "code",
   "execution_count": 109,
   "id": "dff701df-6d0e-4bd0-b766-e5125929d2a5",
   "metadata": {
    "tags": []
   },
   "outputs": [
    {
     "data": {
      "image/png": "[encoded data removed]",
      "text/plain": [
       "<Figure size 800x600 with 1 Axes>"
      ]
     },
     "metadata": {},
     "output_type": "display_data"
    }
   ],
   "source": [
    "#Plotting predicted values against actual values:\n",
    "y_pred2 = lm2.predict(X)\n",
    "\n",
    "# Plotting the scatter plot\n",
    "plt.figure(figsize=(8, 6))\n",
    "plt.scatter(y2, y_pred2, color='blue')\n",
    "plt.xlabel('Actual Average Minimum Coverage Price (USD) ')\n",
    "plt.ylabel('Predicted Average Minimum Coverage Price (USD)')\n",
    "plt.title('Actual vs Average Minimum Coverage Price (USD)')\n",
    "plt.grid(True)\n",
    "plt.show()"
   ]
  },
  {
   "cell_type": "code",
   "execution_count": 110,
   "id": "74dafb06-b995-4ed1-bda3-f2ad8451e997",
   "metadata": {
    "tags": []
   },
   "outputs": [
    {
     "data": {
      "text/plain": [
       "array([-19.30999372,  -7.86622625, -13.09747109,   3.68326022,\n",
       "       -17.1157588 ,   8.35075271,   0.17044055])"
      ]
     },
     "execution_count": 110,
     "metadata": {},
     "output_type": "execute_result"
    }
   ],
   "source": [
    "minimum_price_coef = lm2.coef_ #saving coefficients for later use\n",
    "minimum_price_coef"
   ]
  },
  {
   "cell_type": "markdown",
   "id": "36b5c40c-4e03-4c6e-bb62-6964c419ee0d",
   "metadata": {},
   "source": [
    "<h3>Part 2: Regression with no outliers</h3>"
   ]
  },
  {
   "cell_type": "markdown",
   "id": "44b73221-f2e5-4307-aacd-6a61ed1d961b",
   "metadata": {},
   "source": [
    "It is observed that Michigan's full coverage & minimum coverage prices are more than 2 times higher than the prices of the second ranking state (Rhode Island). The existence of outliers may skew the coefficients of the linear regression. The following regression model will run on the dataset without Michigan to observe the coefficients without the presence of the outlier."
   ]
  },
  {
   "cell_type": "code",
   "execution_count": 120,
   "id": "98ca2baf-2028-475d-8a42-926ef8d8c3f5",
   "metadata": {
    "tags": []
   },
   "outputs": [
    {
     "data": {
      "text/html": [
       "<div>\n",
       "<style scoped>\n",
       "    .dataframe tbody tr th:only-of-type {\n",
       "        vertical-align: middle;\n",
       "    }\n",
       "\n",
       "    .dataframe tbody tr th {\n",
       "        vertical-align: top;\n",
       "    }\n",
       "\n",
       "    .dataframe thead th {\n",
       "        text-align: right;\n",
       "    }\n",
       "</style>\n",
       "<table border=\"1\" class=\"dataframe\">\n",
       "  <thead>\n",
       "    <tr style=\"text-align: right;\">\n",
       "      <th></th>\n",
       "      <th>state</th>\n",
       "      <th>rank</th>\n",
       "      <th>full_coverage</th>\n",
       "      <th>minimum_coverage</th>\n",
       "      <th>difference</th>\n",
       "      <th>Number of drivers involved in fatal collisions per billion miles</th>\n",
       "      <th>Percentage Of Drivers Involved In Fatal Collisions Who Were Speeding</th>\n",
       "      <th>Percentage Of Drivers Involved In Fatal Collisions Who Were Alcohol-Impaired</th>\n",
       "      <th>Percentage Of Drivers Involved In Fatal Collisions Who Were Not Distracted</th>\n",
       "      <th>Percentage Of Drivers Involved In Fatal Collisions Who Had Not Been Involved In Any Previous Accidents</th>\n",
       "      <th>Losses incurred by insurance companies for collisions per insured driver ($)</th>\n",
       "      <th>stolen_cars_per_100k</th>\n",
       "    </tr>\n",
       "    <tr>\n",
       "      <th>State</th>\n",
       "      <th></th>\n",
       "      <th></th>\n",
       "      <th></th>\n",
       "      <th></th>\n",
       "      <th></th>\n",
       "      <th></th>\n",
       "      <th></th>\n",
       "      <th></th>\n",
       "      <th></th>\n",
       "      <th></th>\n",
       "      <th></th>\n",
       "      <th></th>\n",
       "    </tr>\n",
       "  </thead>\n",
       "  <tbody>\n",
       "    <tr>\n",
       "      <th>Alabama</th>\n",
       "      <td>Alabama</td>\n",
       "      <td>31</td>\n",
       "      <td>2078.0</td>\n",
       "      <td>736.0</td>\n",
       "      <td>1342.0</td>\n",
       "      <td>18.8</td>\n",
       "      <td>39.0</td>\n",
       "      <td>30.0</td>\n",
       "      <td>96.0</td>\n",
       "      <td>80.0</td>\n",
       "      <td>145.08</td>\n",
       "      <td>256.5</td>\n",
       "    </tr>\n",
       "    <tr>\n",
       "      <th>Alaska</th>\n",
       "      <td>Alaska</td>\n",
       "      <td>45</td>\n",
       "      <td>1502.0</td>\n",
       "      <td>485.0</td>\n",
       "      <td>1016.0</td>\n",
       "      <td>18.1</td>\n",
       "      <td>41.0</td>\n",
       "      <td>25.0</td>\n",
       "      <td>90.0</td>\n",
       "      <td>94.0</td>\n",
       "      <td>133.93</td>\n",
       "      <td>357.7</td>\n",
       "    </tr>\n",
       "    <tr>\n",
       "      <th>Arizona</th>\n",
       "      <td>Arizona</td>\n",
       "      <td>11</td>\n",
       "      <td>2699.0</td>\n",
       "      <td>980.0</td>\n",
       "      <td>1719.0</td>\n",
       "      <td>18.6</td>\n",
       "      <td>35.0</td>\n",
       "      <td>28.0</td>\n",
       "      <td>84.0</td>\n",
       "      <td>96.0</td>\n",
       "      <td>110.35</td>\n",
       "      <td>249.4</td>\n",
       "    </tr>\n",
       "    <tr>\n",
       "      <th>Arkansas</th>\n",
       "      <td>Arkansas</td>\n",
       "      <td>24</td>\n",
       "      <td>2213.0</td>\n",
       "      <td>677.0</td>\n",
       "      <td>1536.0</td>\n",
       "      <td>22.4</td>\n",
       "      <td>18.0</td>\n",
       "      <td>26.0</td>\n",
       "      <td>94.0</td>\n",
       "      <td>95.0</td>\n",
       "      <td>142.39</td>\n",
       "      <td>245.9</td>\n",
       "    </tr>\n",
       "    <tr>\n",
       "      <th>California</th>\n",
       "      <td>California</td>\n",
       "      <td>39</td>\n",
       "      <td>1804.0</td>\n",
       "      <td>574.0</td>\n",
       "      <td>1230.0</td>\n",
       "      <td>12.0</td>\n",
       "      <td>35.0</td>\n",
       "      <td>28.0</td>\n",
       "      <td>91.0</td>\n",
       "      <td>89.0</td>\n",
       "      <td>165.63</td>\n",
       "      <td>358.8</td>\n",
       "    </tr>\n",
       "  </tbody>\n",
       "</table>\n",
       "</div>"
      ],
      "text/plain": [
       "                 state rank  full_coverage  minimum_coverage  difference  \\\n",
       "State                                                                      \n",
       "Alabama        Alabama   31         2078.0             736.0      1342.0   \n",
       "Alaska          Alaska   45         1502.0             485.0      1016.0   \n",
       "Arizona        Arizona   11         2699.0             980.0      1719.0   \n",
       "Arkansas      Arkansas   24         2213.0             677.0      1536.0   \n",
       "California  California   39         1804.0             574.0      1230.0   \n",
       "\n",
       "            Number of drivers involved in fatal collisions per billion miles  \\\n",
       "State                                                                          \n",
       "Alabama                                                  18.8                  \n",
       "Alaska                                                   18.1                  \n",
       "Arizona                                                  18.6                  \n",
       "Arkansas                                                 22.4                  \n",
       "California                                               12.0                  \n",
       "\n",
       "            Percentage Of Drivers Involved In Fatal Collisions Who Were Speeding  \\\n",
       "State                                                                              \n",
       "Alabama                                                  39.0                      \n",
       "Alaska                                                   41.0                      \n",
       "Arizona                                                  35.0                      \n",
       "Arkansas                                                 18.0                      \n",
       "California                                               35.0                      \n",
       "\n",
       "            Percentage Of Drivers Involved In Fatal Collisions Who Were Alcohol-Impaired  \\\n",
       "State                                                                                      \n",
       "Alabama                                                  30.0                              \n",
       "Alaska                                                   25.0                              \n",
       "Arizona                                                  28.0                              \n",
       "Arkansas                                                 26.0                              \n",
       "California                                               28.0                              \n",
       "\n",
       "            Percentage Of Drivers Involved In Fatal Collisions Who Were Not Distracted  \\\n",
       "State                                                                                    \n",
       "Alabama                                                  96.0                            \n",
       "Alaska                                                   90.0                            \n",
       "Arizona                                                  84.0                            \n",
       "Arkansas                                                 94.0                            \n",
       "California                                               91.0                            \n",
       "\n",
       "            Percentage Of Drivers Involved In Fatal Collisions Who Had Not Been Involved In Any Previous Accidents  \\\n",
       "State                                                                                                                \n",
       "Alabama                                                  80.0                                                        \n",
       "Alaska                                                   94.0                                                        \n",
       "Arizona                                                  96.0                                                        \n",
       "Arkansas                                                 95.0                                                        \n",
       "California                                               89.0                                                        \n",
       "\n",
       "            Losses incurred by insurance companies for collisions per insured driver ($)  \\\n",
       "State                                                                                      \n",
       "Alabama                                                145.08                              \n",
       "Alaska                                                 133.93                              \n",
       "Arizona                                                110.35                              \n",
       "Arkansas                                               142.39                              \n",
       "California                                             165.63                              \n",
       "\n",
       "            stolen_cars_per_100k  \n",
       "State                             \n",
       "Alabama                    256.5  \n",
       "Alaska                     357.7  \n",
       "Arizona                    249.4  \n",
       "Arkansas                   245.9  \n",
       "California                 358.8  "
      ]
     },
     "execution_count": 120,
     "metadata": {},
     "output_type": "execute_result"
    }
   ],
   "source": [
    "#remove the outlier:\n",
    "no_outliers = plotting_data.drop(\"Car Insurance Premiums ($)\", axis = 1).drop(\"Michigan\")\n",
    "no_outliers.head()\n",
    "\n"
   ]
  },
  {
   "cell_type": "code",
   "execution_count": 121,
   "id": "a1655408-faed-4feb-abc2-f693f77f8590",
   "metadata": {
    "tags": []
   },
   "outputs": [
    {
     "data": {
      "text/html": [
       "<style>#sk-container-id-9 {color: black;background-color: white;}#sk-container-id-9 pre{padding: 0;}#sk-container-id-9 div.sk-toggleable {background-color: white;}#sk-container-id-9 label.sk-toggleable__label {cursor: pointer;display: block;width: 100%;margin-bottom: 0;padding: 0.3em;box-sizing: border-box;text-align: center;}#sk-container-id-9 label.sk-toggleable__label-arrow:before {content: \"▸\";float: left;margin-right: 0.25em;color: #696969;}#sk-container-id-9 label.sk-toggleable__label-arrow:hover:before {color: black;}#sk-container-id-9 div.sk-estimator:hover label.sk-toggleable__label-arrow:before {color: black;}#sk-container-id-9 div.sk-toggleable__content {max-height: 0;max-width: 0;overflow: hidden;text-align: left;background-color: #f0f8ff;}#sk-container-id-9 div.sk-toggleable__content pre {margin: 0.2em;color: black;border-radius: 0.25em;background-color: #f0f8ff;}#sk-container-id-9 input.sk-toggleable__control:checked~div.sk-toggleable__content {max-height: 200px;max-width: 100%;overflow: auto;}#sk-container-id-9 input.sk-toggleable__control:checked~label.sk-toggleable__label-arrow:before {content: \"▾\";}#sk-container-id-9 div.sk-estimator input.sk-toggleable__control:checked~label.sk-toggleable__label {background-color: #d4ebff;}#sk-container-id-9 div.sk-label input.sk-toggleable__control:checked~label.sk-toggleable__label {background-color: #d4ebff;}#sk-container-id-9 input.sk-hidden--visually {border: 0;clip: rect(1px 1px 1px 1px);clip: rect(1px, 1px, 1px, 1px);height: 1px;margin: -1px;overflow: hidden;padding: 0;position: absolute;width: 1px;}#sk-container-id-9 div.sk-estimator {font-family: monospace;background-color: #f0f8ff;border: 1px dotted black;border-radius: 0.25em;box-sizing: border-box;margin-bottom: 0.5em;}#sk-container-id-9 div.sk-estimator:hover {background-color: #d4ebff;}#sk-container-id-9 div.sk-parallel-item::after {content: \"\";width: 100%;border-bottom: 1px solid gray;flex-grow: 1;}#sk-container-id-9 div.sk-label:hover label.sk-toggleable__label {background-color: #d4ebff;}#sk-container-id-9 div.sk-serial::before {content: \"\";position: absolute;border-left: 1px solid gray;box-sizing: border-box;top: 0;bottom: 0;left: 50%;z-index: 0;}#sk-container-id-9 div.sk-serial {display: flex;flex-direction: column;align-items: center;background-color: white;padding-right: 0.2em;padding-left: 0.2em;position: relative;}#sk-container-id-9 div.sk-item {position: relative;z-index: 1;}#sk-container-id-9 div.sk-parallel {display: flex;align-items: stretch;justify-content: center;background-color: white;position: relative;}#sk-container-id-9 div.sk-item::before, #sk-container-id-9 div.sk-parallel-item::before {content: \"\";position: absolute;border-left: 1px solid gray;box-sizing: border-box;top: 0;bottom: 0;left: 50%;z-index: -1;}#sk-container-id-9 div.sk-parallel-item {display: flex;flex-direction: column;z-index: 1;position: relative;background-color: white;}#sk-container-id-9 div.sk-parallel-item:first-child::after {align-self: flex-end;width: 50%;}#sk-container-id-9 div.sk-parallel-item:last-child::after {align-self: flex-start;width: 50%;}#sk-container-id-9 div.sk-parallel-item:only-child::after {width: 0;}#sk-container-id-9 div.sk-dashed-wrapped {border: 1px dashed gray;margin: 0 0.4em 0.5em 0.4em;box-sizing: border-box;padding-bottom: 0.4em;background-color: white;}#sk-container-id-9 div.sk-label label {font-family: monospace;font-weight: bold;display: inline-block;line-height: 1.2em;}#sk-container-id-9 div.sk-label-container {text-align: center;}#sk-container-id-9 div.sk-container {/* jupyter's `normalize.less` sets `[hidden] { display: none; }` but bootstrap.min.css set `[hidden] { display: none !important; }` so we also need the `!important` here to be able to override the default hidden behavior on the sphinx rendered scikit-learn.org. See: https://github.com/scikit-learn/scikit-learn/issues/21755 */display: inline-block !important;position: relative;}#sk-container-id-9 div.sk-text-repr-fallback {display: none;}</style><div id=\"sk-container-id-9\" class=\"sk-top-container\"><div class=\"sk-text-repr-fallback\"><pre>LinearRegression()</pre><b>In a Jupyter environment, please rerun this cell to show the HTML representation or trust the notebook. <br />On GitHub, the HTML representation is unable to render, please try loading this page with nbviewer.org.</b></div><div class=\"sk-container\" hidden><div class=\"sk-item\"><div class=\"sk-estimator sk-toggleable\"><input class=\"sk-toggleable__control sk-hidden--visually\" id=\"sk-estimator-id-9\" type=\"checkbox\" checked><label for=\"sk-estimator-id-9\" class=\"sk-toggleable__label sk-toggleable__label-arrow\">LinearRegression</label><div class=\"sk-toggleable__content\"><pre>LinearRegression()</pre></div></div></div></div></div>"
      ],
      "text/plain": [
       "LinearRegression()"
      ]
     },
     "execution_count": 121,
     "metadata": {},
     "output_type": "execute_result"
    }
   ],
   "source": [
    "#regression on full coverage price - no outlier:\n",
    "y3 = no_outliers[\"full_coverage\"]\n",
    "X1 = no_outliers.iloc[:,5:]\n",
    "\n",
    "#defining model\n",
    "lm3 = linear_model.LinearRegression()\n",
    "#fitting model\n",
    "lm3.fit(X1, y3)"
   ]
  },
  {
   "cell_type": "code",
   "execution_count": 122,
   "id": "cadb3ba3-3275-4bca-b4dc-d3e14d1bc427",
   "metadata": {
    "tags": []
   },
   "outputs": [
    {
     "data": {
      "text/plain": [
       "array([ 3.90953079, -4.35613786,  4.00856063,  1.32473901,  4.58900963,\n",
       "        9.91728854,  0.41215145])"
      ]
     },
     "execution_count": 122,
     "metadata": {},
     "output_type": "execute_result"
    }
   ],
   "source": [
    "full_price_coef2 = lm3.coef_ #saving coefficients for later use\n",
    "full_price_coef2"
   ]
  },
  {
   "cell_type": "code",
   "execution_count": 123,
   "id": "5f21f72a-2a21-4897-a143-0df8e4c71413",
   "metadata": {
    "tags": []
   },
   "outputs": [
    {
     "data": {
      "image/png": "[encoded data removed]",
      "text/plain": [
       "<Figure size 800x600 with 1 Axes>"
      ]
     },
     "metadata": {},
     "output_type": "display_data"
    }
   ],
   "source": [
    "#Plotting predicted values against actual values - no outlier:\n",
    "y_pred3 = lm3.predict(X1)\n",
    "\n",
    "# Plotting the scatter plot\n",
    "plt.figure(figsize=(8, 6))\n",
    "plt.scatter(y3, y_pred3, color='blue')\n",
    "plt.xlabel('Actual Average Full Coverage Price (USD) ')\n",
    "plt.ylabel('Predicted Average Full Coverage Price (USD)')\n",
    "plt.title('Actual vs Average Full Coverage Price (USD), No Outlier')\n",
    "plt.grid(True)\n",
    "plt.show()"
   ]
  },
  {
   "cell_type": "code",
   "execution_count": 124,
   "id": "9cbf780c-b1ba-44aa-9adf-2dbf2f2e84eb",
   "metadata": {
    "tags": []
   },
   "outputs": [
    {
     "data": {
      "text/html": [
       "<style>#sk-container-id-10 {color: black;background-color: white;}#sk-container-id-10 pre{padding: 0;}#sk-container-id-10 div.sk-toggleable {background-color: white;}#sk-container-id-10 label.sk-toggleable__label {cursor: pointer;display: block;width: 100%;margin-bottom: 0;padding: 0.3em;box-sizing: border-box;text-align: center;}#sk-container-id-10 label.sk-toggleable__label-arrow:before {content: \"▸\";float: left;margin-right: 0.25em;color: #696969;}#sk-container-id-10 label.sk-toggleable__label-arrow:hover:before {color: black;}#sk-container-id-10 div.sk-estimator:hover label.sk-toggleable__label-arrow:before {color: black;}#sk-container-id-10 div.sk-toggleable__content {max-height: 0;max-width: 0;overflow: hidden;text-align: left;background-color: #f0f8ff;}#sk-container-id-10 div.sk-toggleable__content pre {margin: 0.2em;color: black;border-radius: 0.25em;background-color: #f0f8ff;}#sk-container-id-10 input.sk-toggleable__control:checked~div.sk-toggleable__content {max-height: 200px;max-width: 100%;overflow: auto;}#sk-container-id-10 input.sk-toggleable__control:checked~label.sk-toggleable__label-arrow:before {content: \"▾\";}#sk-container-id-10 div.sk-estimator input.sk-toggleable__control:checked~label.sk-toggleable__label {background-color: #d4ebff;}#sk-container-id-10 div.sk-label input.sk-toggleable__control:checked~label.sk-toggleable__label {background-color: #d4ebff;}#sk-container-id-10 input.sk-hidden--visually {border: 0;clip: rect(1px 1px 1px 1px);clip: rect(1px, 1px, 1px, 1px);height: 1px;margin: -1px;overflow: hidden;padding: 0;position: absolute;width: 1px;}#sk-container-id-10 div.sk-estimator {font-family: monospace;background-color: #f0f8ff;border: 1px dotted black;border-radius: 0.25em;box-sizing: border-box;margin-bottom: 0.5em;}#sk-container-id-10 div.sk-estimator:hover {background-color: #d4ebff;}#sk-container-id-10 div.sk-parallel-item::after {content: \"\";width: 100%;border-bottom: 1px solid gray;flex-grow: 1;}#sk-container-id-10 div.sk-label:hover label.sk-toggleable__label {background-color: #d4ebff;}#sk-container-id-10 div.sk-serial::before {content: \"\";position: absolute;border-left: 1px solid gray;box-sizing: border-box;top: 0;bottom: 0;left: 50%;z-index: 0;}#sk-container-id-10 div.sk-serial {display: flex;flex-direction: column;align-items: center;background-color: white;padding-right: 0.2em;padding-left: 0.2em;position: relative;}#sk-container-id-10 div.sk-item {position: relative;z-index: 1;}#sk-container-id-10 div.sk-parallel {display: flex;align-items: stretch;justify-content: center;background-color: white;position: relative;}#sk-container-id-10 div.sk-item::before, #sk-container-id-10 div.sk-parallel-item::before {content: \"\";position: absolute;border-left: 1px solid gray;box-sizing: border-box;top: 0;bottom: 0;left: 50%;z-index: -1;}#sk-container-id-10 div.sk-parallel-item {display: flex;flex-direction: column;z-index: 1;position: relative;background-color: white;}#sk-container-id-10 div.sk-parallel-item:first-child::after {align-self: flex-end;width: 50%;}#sk-container-id-10 div.sk-parallel-item:last-child::after {align-self: flex-start;width: 50%;}#sk-container-id-10 div.sk-parallel-item:only-child::after {width: 0;}#sk-container-id-10 div.sk-dashed-wrapped {border: 1px dashed gray;margin: 0 0.4em 0.5em 0.4em;box-sizing: border-box;padding-bottom: 0.4em;background-color: white;}#sk-container-id-10 div.sk-label label {font-family: monospace;font-weight: bold;display: inline-block;line-height: 1.2em;}#sk-container-id-10 div.sk-label-container {text-align: center;}#sk-container-id-10 div.sk-container {/* jupyter's `normalize.less` sets `[hidden] { display: none; }` but bootstrap.min.css set `[hidden] { display: none !important; }` so we also need the `!important` here to be able to override the default hidden behavior on the sphinx rendered scikit-learn.org. See: https://github.com/scikit-learn/scikit-learn/issues/21755 */display: inline-block !important;position: relative;}#sk-container-id-10 div.sk-text-repr-fallback {display: none;}</style><div id=\"sk-container-id-10\" class=\"sk-top-container\"><div class=\"sk-text-repr-fallback\"><pre>LinearRegression()</pre><b>In a Jupyter environment, please rerun this cell to show the HTML representation or trust the notebook. <br />On GitHub, the HTML representation is unable to render, please try loading this page with nbviewer.org.</b></div><div class=\"sk-container\" hidden><div class=\"sk-item\"><div class=\"sk-estimator sk-toggleable\"><input class=\"sk-toggleable__control sk-hidden--visually\" id=\"sk-estimator-id-10\" type=\"checkbox\" checked><label for=\"sk-estimator-id-10\" class=\"sk-toggleable__label sk-toggleable__label-arrow\">LinearRegression</label><div class=\"sk-toggleable__content\"><pre>LinearRegression()</pre></div></div></div></div></div>"
      ],
      "text/plain": [
       "LinearRegression()"
      ]
     },
     "execution_count": 124,
     "metadata": {},
     "output_type": "execute_result"
    }
   ],
   "source": [
    "#linear regression model on Minimum-coverage insurance - no outlier\n",
    "y4 = no_outliers[\"minimum_coverage\"]\n",
    "\n",
    "\n",
    "#defining model\n",
    "lm4 = linear_model.LinearRegression()\n",
    "#fitting model\n",
    "lm4.fit(X1, y4)\n"
   ]
  },
  {
   "cell_type": "code",
   "execution_count": 125,
   "id": "2dad3cac-8527-423b-81f8-b698aa092e16",
   "metadata": {
    "tags": []
   },
   "outputs": [
    {
     "data": {
      "text/plain": [
       "array([ 3.90953079, -4.35613786,  4.00856063,  1.32473901,  4.58900963,\n",
       "        9.91728854,  0.41215145])"
      ]
     },
     "execution_count": 125,
     "metadata": {},
     "output_type": "execute_result"
    }
   ],
   "source": [
    "minimum_price_coef2 = lm3.coef_ #saving coefficients for later use\n",
    "minimum_price_coef2"
   ]
  },
  {
   "cell_type": "code",
   "execution_count": 126,
   "id": "f25bec10-ec96-4e9b-b6fa-641d9d29a411",
   "metadata": {
    "tags": []
   },
   "outputs": [
    {
     "data": {
      "image/png": "[encoded data removed]",
      "text/plain": [
       "<Figure size 800x600 with 1 Axes>"
      ]
     },
     "metadata": {},
     "output_type": "display_data"
    }
   ],
   "source": [
    "#Plotting predicted values against actual values - no outlier:\n",
    "y_pred4 = lm4.predict(X1)\n",
    "\n",
    "# Plotting the scatter plot\n",
    "plt.figure(figsize=(8, 6))\n",
    "plt.scatter(y4, y_pred4, color='blue')\n",
    "plt.xlabel('Actual Average Minimum Coverage Price (USD) ')\n",
    "plt.ylabel('Predicted Average Minimum Coverage Price (USD)')\n",
    "plt.title('Actual vs Average Minimum Coverage Price (USD), No Outlier')\n",
    "plt.grid(True)\n",
    "plt.show()"
   ]
  },
  {
   "cell_type": "markdown",
   "id": "6124a30a-c9bb-42bb-a3a0-10d0ee012fdf",
   "metadata": {},
   "source": [
    "<h3>Part 3: Comparing results</h3>"
   ]
  },
  {
   "cell_type": "code",
   "execution_count": 96,
   "id": "1bcb9a37-fa41-4887-9e76-c527c566152e",
   "metadata": {
    "tags": []
   },
   "outputs": [
    {
     "data": {
      "text/plain": [
       "['Number of drivers involved in fatal collisions per billion miles',\n",
       " 'Percentage Of Drivers Involved In Fatal Collisions Who Were Speeding',\n",
       " 'Percentage Of Drivers Involved In Fatal Collisions Who Were Alcohol-Impaired',\n",
       " 'Percentage Of Drivers Involved In Fatal Collisions Who Were Not Distracted',\n",
       " 'Percentage Of Drivers Involved In Fatal Collisions Who Had Not Been Involved In Any Previous Accidents',\n",
       " 'Car Insurance Premiums ($)',\n",
       " 'Losses incurred by insurance companies for collisions per insured driver ($)',\n",
       " 'stolen_cars_per_100k']"
      ]
     },
     "execution_count": 96,
     "metadata": {},
     "output_type": "execute_result"
    }
   ],
   "source": [
    "# #construct summary table:\n",
    "# #list of independent variable names:\n",
    "var_names = list(X)\n",
    "var_names\n"
   ]
  },
  {
   "cell_type": "markdown",
   "id": "d289ba32-c926-4eca-bae7-eb3ba90818f4",
   "metadata": {
    "tags": []
   },
   "source": [
    "<h1>Conclusion</h1>"
   ]
  },
  {
   "cell_type": "markdown",
   "id": "a6c9b5fa-061d-4566-b346-2ff4ed20ca40",
   "metadata": {},
   "source": [
    "<h1>References</h1>"
   ]
  },
  {
   "cell_type": "code",
   "execution_count": null,
   "id": "29943ee1-3eb6-411d-b5e9-d8c436c286e9",
   "metadata": {},
   "outputs": [],
   "source": []
  },
  {
   "cell_type": "code",
   "execution_count": null,
   "id": "3f665d41-c971-403c-860c-9a1500795114",
   "metadata": {},
   "outputs": [],
   "source": []
  }
 ],
 "metadata": {
  "kernelspec": {
   "display_name": "Python 3 (ipykernel)",
   "language": "python",
   "name": "python3"
  },
  "language_info": {
   "codemirror_mode": {
    "name": "ipython",
    "version": 3
   },
   "file_extension": ".py",
   "mimetype": "text/x-python",
   "name": "python",
   "nbconvert_exporter": "python",
   "pygments_lexer": "ipython3",
   "version": "3.10.8"
  }
 },
 "nbformat": 4,
 "nbformat_minor": 5
}
