{
 "cells": [
  {
   "cell_type": "markdown",
   "id": "4ed1ed10-cdd5-43c9-a4e0-c08d81ae40b9",
   "metadata": {},
   "source": [
    "<h1>Investigating Aggregate Factors Associated with Car Insurance Prices</h1>"
   ]
  },
  {
   "cell_type": "markdown",
   "id": "1ec09c2f-2f92-4a1f-a97a-ca05487383ad",
   "metadata": {
    "tags": []
   },
   "source": [
    "Group members:\n",
    "Karina Li,\n",
    "Daisy Liu,\n",
    "Xinyu Li,\n",
    "Catherine Yang"
   ]
  },
  {
   "cell_type": "markdown",
   "id": "5911734f-1344-426e-bc4f-0dae8afbf3a9",
   "metadata": {},
   "source": [
    "<h1>Intro</h1>"
   ]
  },
  {
   "cell_type": "markdown",
   "id": "294f13d4-fad2-46ed-bbaf-63a8ce072649",
   "metadata": {},
   "source": [
    "Brief introduction of the topic & variables used for analysis"
   ]
  },
  {
   "cell_type": "markdown",
   "id": "a32bf807-23b8-4742-8295-7ee19e70567b",
   "metadata": {},
   "source": [
    "**RESEARCH QUESTIONS (DRAFT)**\n",
    "\n",
    "RESEARCH QUESTION: What aggregate factors contribute to the average insurance costs?\n",
    "\n",
    "Although car insurance costs vary between individuals based on their attributes (eg.\n",
    " age, experience, etc.) to what extent are average car insurance costs correlate with more general statistics (eg. the amount of bad drivers in a state or the amount of car thefts that goes on in a state)?\n",
    "\n",
    "Further questions for investigation:\n",
    "Does per capita bad drivers / accidents / theft etc. correlate with higher insurance prices more than the nominal values of these variables?\n",
    "Do insurance firms adjust their perception of risk based on the concentration of events in the area or do they make decisions based on the raw number occurrences of these factors?\n",
    "What are the different impacts on full insurance coverage price / minimum insurance coverage price?\n",
    "Hypothesis: the minimum insurance coverage price may be less influenced by these negative factors because they are less of a risk, verify this hypothesis with regression\n"
   ]
  },
  {
   "cell_type": "markdown",
   "id": "4a3f2064-a307-4e42-998b-fd2a91236df3",
   "metadata": {},
   "source": [
    "**OUTLINE OF PROJECT CONTENT (DRAFT)**\n",
    "\n",
    "-Mapping for insurance data (visualization - maybe implement interactivity)\n",
    "\n",
    "\n",
    "-Scatter plot between average insurance prices and the identified variables\n",
    "\n",
    "\n",
    "-Regression using the identified variables, prediction analysis\n",
    "\n",
    "Extension:\n",
    "Doing separate analysis for maximum coverage & minimum coverage price, to see if the identified variables influence minimum coverage price less than maximum coverage price\n"
   ]
  },
  {
   "cell_type": "markdown",
   "id": "71dce2d2-9911-4a9c-84e9-71a7b252feac",
   "metadata": {},
   "source": [
    "<h1>Loading Packages & Datasets</h1>"
   ]
  },
  {
   "cell_type": "code",
   "execution_count": 59,
   "id": "bdcf6a37-3c7f-4392-8930-9f2ffd31ba4f",
   "metadata": {
    "tags": []
   },
   "outputs": [
    {
     "name": "stdout",
     "output_type": "stream",
     "text": [
      "Requirement already satisfied: fiona in /opt/conda/lib/python3.10/site-packages (1.9.6)\n",
      "Requirement already satisfied: geopandas in /opt/conda/lib/python3.10/site-packages (0.14.3)\n",
      "Requirement already satisfied: xgboost in /opt/conda/lib/python3.10/site-packages (2.0.3)\n",
      "Requirement already satisfied: gensim in /opt/conda/lib/python3.10/site-packages (4.3.2)\n",
      "Requirement already satisfied: pyLDAvis in /opt/conda/lib/python3.10/site-packages (3.4.1)\n",
      "Requirement already satisfied: descartes in /opt/conda/lib/python3.10/site-packages (1.1.0)\n",
      "Requirement already satisfied: mapclassify in /opt/conda/lib/python3.10/site-packages (2.6.1)\n",
      "Requirement already satisfied: opendatasets in /opt/conda/lib/python3.10/site-packages (0.1.22)\n",
      "Requirement already satisfied: click~=8.0 in /opt/conda/lib/python3.10/site-packages (from fiona) (8.1.3)\n",
      "Requirement already satisfied: attrs>=19.2.0 in /opt/conda/lib/python3.10/site-packages (from fiona) (22.2.0)\n",
      "Requirement already satisfied: cligj>=0.5 in /opt/conda/lib/python3.10/site-packages (from fiona) (0.7.2)\n",
      "Requirement already satisfied: click-plugins>=1.0 in /opt/conda/lib/python3.10/site-packages (from fiona) (1.1.1)\n",
      "Requirement already satisfied: six in /opt/conda/lib/python3.10/site-packages (from fiona) (1.16.0)\n",
      "Requirement already satisfied: certifi in /opt/conda/lib/python3.10/site-packages (from fiona) (2024.2.2)\n",
      "Requirement already satisfied: pandas>=1.4.0 in /opt/conda/lib/python3.10/site-packages (from geopandas) (2.2.2)\n",
      "Requirement already satisfied: shapely>=1.8.0 in /opt/conda/lib/python3.10/site-packages (from geopandas) (2.0.3)\n",
      "Requirement already satisfied: packaging in /opt/conda/lib/python3.10/site-packages (from geopandas) (23.0)\n",
      "Requirement already satisfied: pyproj>=3.3.0 in /opt/conda/lib/python3.10/site-packages (from geopandas) (3.6.1)\n",
      "Requirement already satisfied: scipy in /opt/conda/lib/python3.10/site-packages (from xgboost) (1.10.0)\n",
      "Requirement already satisfied: numpy in /opt/conda/lib/python3.10/site-packages (from xgboost) (1.26.4)\n",
      "Requirement already satisfied: smart-open>=1.8.1 in /opt/conda/lib/python3.10/site-packages (from gensim) (7.0.4)\n",
      "Requirement already satisfied: jinja2 in /opt/conda/lib/python3.10/site-packages (from pyLDAvis) (3.1.2)\n",
      "Requirement already satisfied: joblib>=1.2.0 in /opt/conda/lib/python3.10/site-packages (from pyLDAvis) (1.2.0)\n",
      "Requirement already satisfied: setuptools in /opt/conda/lib/python3.10/site-packages (from pyLDAvis) (67.6.1)\n",
      "Requirement already satisfied: numexpr in /opt/conda/lib/python3.10/site-packages (from pyLDAvis) (2.8.3)\n",
      "Requirement already satisfied: funcy in /opt/conda/lib/python3.10/site-packages (from pyLDAvis) (2.0)\n",
      "Requirement already satisfied: scikit-learn>=1.0.0 in /opt/conda/lib/python3.10/site-packages (from pyLDAvis) (1.2.0)\n",
      "Requirement already satisfied: matplotlib in /opt/conda/lib/python3.10/site-packages (from descartes) (3.6.3)\n",
      "Requirement already satisfied: networkx>=2.7 in /opt/conda/lib/python3.10/site-packages (from mapclassify) (2.8.8)\n",
      "Requirement already satisfied: tqdm in /opt/conda/lib/python3.10/site-packages (from opendatasets) (4.64.1)\n",
      "Requirement already satisfied: kaggle in /opt/conda/lib/python3.10/site-packages (from opendatasets) (1.6.11)\n",
      "Requirement already satisfied: tzdata>=2022.7 in /opt/conda/lib/python3.10/site-packages (from pandas>=1.4.0->geopandas) (2022.7)\n",
      "Requirement already satisfied: pytz>=2020.1 in /opt/conda/lib/python3.10/site-packages (from pandas>=1.4.0->geopandas) (2022.7.1)\n",
      "Requirement already satisfied: python-dateutil>=2.8.2 in /opt/conda/lib/python3.10/site-packages (from pandas>=1.4.0->geopandas) (2.8.2)\n",
      "Requirement already satisfied: threadpoolctl>=2.0.0 in /opt/conda/lib/python3.10/site-packages (from scikit-learn>=1.0.0->pyLDAvis) (3.1.0)\n",
      "Requirement already satisfied: wrapt in /opt/conda/lib/python3.10/site-packages (from smart-open>=1.8.1->gensim) (1.15.0)\n",
      "Requirement already satisfied: MarkupSafe>=2.0 in /opt/conda/lib/python3.10/site-packages (from jinja2->pyLDAvis) (2.1.2)\n",
      "Requirement already satisfied: urllib3 in /opt/conda/lib/python3.10/site-packages (from kaggle->opendatasets) (1.26.14)\n",
      "Requirement already satisfied: bleach in /opt/conda/lib/python3.10/site-packages (from kaggle->opendatasets) (4.1.0)\n",
      "Requirement already satisfied: python-slugify in /opt/conda/lib/python3.10/site-packages (from kaggle->opendatasets) (8.0.4)\n",
      "Requirement already satisfied: requests in /opt/conda/lib/python3.10/site-packages (from kaggle->opendatasets) (2.28.2)\n",
      "Requirement already satisfied: fonttools>=4.22.0 in /opt/conda/lib/python3.10/site-packages (from matplotlib->descartes) (4.38.0)\n",
      "Requirement already satisfied: pyparsing>=2.2.1 in /opt/conda/lib/python3.10/site-packages (from matplotlib->descartes) (3.0.9)\n",
      "Requirement already satisfied: kiwisolver>=1.0.1 in /opt/conda/lib/python3.10/site-packages (from matplotlib->descartes) (1.4.4)\n",
      "Requirement already satisfied: contourpy>=1.0.1 in /opt/conda/lib/python3.10/site-packages (from matplotlib->descartes) (1.0.7)\n",
      "Requirement already satisfied: cycler>=0.10 in /opt/conda/lib/python3.10/site-packages (from matplotlib->descartes) (0.11.0)\n",
      "Requirement already satisfied: pillow>=6.2.0 in /opt/conda/lib/python3.10/site-packages (from matplotlib->descartes) (9.2.0)\n",
      "Requirement already satisfied: webencodings in /opt/conda/lib/python3.10/site-packages (from bleach->kaggle->opendatasets) (0.5.1)\n",
      "Requirement already satisfied: text-unidecode>=1.3 in /opt/conda/lib/python3.10/site-packages (from python-slugify->kaggle->opendatasets) (1.3)\n",
      "Requirement already satisfied: idna<4,>=2.5 in /opt/conda/lib/python3.10/site-packages (from requests->kaggle->opendatasets) (3.4)\n",
      "Requirement already satisfied: charset-normalizer<4,>=2 in /opt/conda/lib/python3.10/site-packages (from requests->kaggle->opendatasets) (2.1.1)\n"
     ]
    }
   ],
   "source": [
    "! pip install fiona geopandas xgboost gensim pyLDAvis descartes mapclassify opendatasets "
   ]
  },
  {
   "cell_type": "code",
   "execution_count": 14,
   "id": "265a0fcb-e393-4f7d-ab41-1fe502436d23",
   "metadata": {
    "tags": []
   },
   "outputs": [
    {
     "name": "stdout",
     "output_type": "stream",
     "text": [
      "Requirement already satisfied: geopandas in /opt/conda/lib/python3.10/site-packages (0.14.3)\n",
      "Requirement already satisfied: opendatasets in /opt/conda/lib/python3.10/site-packages (0.1.22)\n",
      "Requirement already satisfied: pyproj>=3.3.0 in /opt/conda/lib/python3.10/site-packages (from geopandas) (3.6.1)\n",
      "Requirement already satisfied: shapely>=1.8.0 in /opt/conda/lib/python3.10/site-packages (from geopandas) (2.0.3)\n",
      "Requirement already satisfied: packaging in /opt/conda/lib/python3.10/site-packages (from geopandas) (23.0)\n",
      "Requirement already satisfied: fiona>=1.8.21 in /opt/conda/lib/python3.10/site-packages (from geopandas) (1.9.6)\n",
      "Requirement already satisfied: pandas>=1.4.0 in /opt/conda/lib/python3.10/site-packages (from geopandas) (2.2.2)\n",
      "Requirement already satisfied: tqdm in /opt/conda/lib/python3.10/site-packages (from opendatasets) (4.64.1)\n",
      "Requirement already satisfied: click in /opt/conda/lib/python3.10/site-packages (from opendatasets) (8.1.3)\n",
      "Requirement already satisfied: kaggle in /opt/conda/lib/python3.10/site-packages (from opendatasets) (1.6.11)\n",
      "Requirement already satisfied: certifi in /opt/conda/lib/python3.10/site-packages (from fiona>=1.8.21->geopandas) (2024.2.2)\n",
      "Requirement already satisfied: six in /opt/conda/lib/python3.10/site-packages (from fiona>=1.8.21->geopandas) (1.16.0)\n",
      "Requirement already satisfied: attrs>=19.2.0 in /opt/conda/lib/python3.10/site-packages (from fiona>=1.8.21->geopandas) (22.2.0)\n",
      "Requirement already satisfied: cligj>=0.5 in /opt/conda/lib/python3.10/site-packages (from fiona>=1.8.21->geopandas) (0.7.2)\n",
      "Requirement already satisfied: click-plugins>=1.0 in /opt/conda/lib/python3.10/site-packages (from fiona>=1.8.21->geopandas) (1.1.1)\n",
      "Requirement already satisfied: numpy>=1.22.4 in /opt/conda/lib/python3.10/site-packages (from pandas>=1.4.0->geopandas) (1.26.4)\n",
      "Requirement already satisfied: pytz>=2020.1 in /opt/conda/lib/python3.10/site-packages (from pandas>=1.4.0->geopandas) (2022.7.1)\n",
      "Requirement already satisfied: tzdata>=2022.7 in /opt/conda/lib/python3.10/site-packages (from pandas>=1.4.0->geopandas) (2022.7)\n",
      "Requirement already satisfied: python-dateutil>=2.8.2 in /opt/conda/lib/python3.10/site-packages (from pandas>=1.4.0->geopandas) (2.8.2)\n",
      "Requirement already satisfied: requests in /opt/conda/lib/python3.10/site-packages (from kaggle->opendatasets) (2.28.2)\n",
      "Requirement already satisfied: bleach in /opt/conda/lib/python3.10/site-packages (from kaggle->opendatasets) (4.1.0)\n",
      "Requirement already satisfied: python-slugify in /opt/conda/lib/python3.10/site-packages (from kaggle->opendatasets) (8.0.4)\n",
      "Requirement already satisfied: urllib3 in /opt/conda/lib/python3.10/site-packages (from kaggle->opendatasets) (1.26.14)\n",
      "Requirement already satisfied: webencodings in /opt/conda/lib/python3.10/site-packages (from bleach->kaggle->opendatasets) (0.5.1)\n",
      "Requirement already satisfied: text-unidecode>=1.3 in /opt/conda/lib/python3.10/site-packages (from python-slugify->kaggle->opendatasets) (1.3)\n",
      "Requirement already satisfied: charset-normalizer<4,>=2 in /opt/conda/lib/python3.10/site-packages (from requests->kaggle->opendatasets) (2.1.1)\n",
      "Requirement already satisfied: idna<4,>=2.5 in /opt/conda/lib/python3.10/site-packages (from requests->kaggle->opendatasets) (3.4)\n"
     ]
    }
   ],
   "source": [
    "! pip install geopandas opendatasets"
   ]
  },
  {
   "cell_type": "code",
   "execution_count": 26,
   "id": "b584fb87-36cd-42d5-92c9-47231911f15a",
   "metadata": {
    "tags": []
   },
   "outputs": [
    {
     "name": "stdout",
     "output_type": "stream",
     "text": [
      "Requirement already satisfied: folium in /opt/conda/lib/python3.10/site-packages (0.16.0)\n",
      "Requirement already satisfied: xyzservices in /opt/conda/lib/python3.10/site-packages (from folium) (2024.4.0)\n",
      "Requirement already satisfied: jinja2>=2.9 in /opt/conda/lib/python3.10/site-packages (from folium) (3.1.2)\n",
      "Requirement already satisfied: numpy in /opt/conda/lib/python3.10/site-packages (from folium) (1.26.4)\n",
      "Requirement already satisfied: branca>=0.6.0 in /opt/conda/lib/python3.10/site-packages (from folium) (0.7.1)\n",
      "Requirement already satisfied: requests in /opt/conda/lib/python3.10/site-packages (from folium) (2.28.2)\n",
      "Requirement already satisfied: MarkupSafe>=2.0 in /opt/conda/lib/python3.10/site-packages (from jinja2>=2.9->folium) (2.1.2)\n",
      "Requirement already satisfied: idna<4,>=2.5 in /opt/conda/lib/python3.10/site-packages (from requests->folium) (3.4)\n",
      "Requirement already satisfied: certifi>=2017.4.17 in /opt/conda/lib/python3.10/site-packages (from requests->folium) (2024.2.2)\n",
      "Requirement already satisfied: charset-normalizer<4,>=2 in /opt/conda/lib/python3.10/site-packages (from requests->folium) (2.1.1)\n",
      "Requirement already satisfied: urllib3<1.27,>=1.21.1 in /opt/conda/lib/python3.10/site-packages (from requests->folium) (1.26.14)\n"
     ]
    }
   ],
   "source": [
    "! pip install folium"
   ]
  },
  {
   "cell_type": "code",
   "execution_count": 57,
   "id": "5e5b6688-c156-494e-bb33-4be625e700c1",
   "metadata": {
    "tags": []
   },
   "outputs": [
    {
     "ename": "ModuleNotFoundError",
     "evalue": "No module named 'JSON'",
     "output_type": "error",
     "traceback": [
      "\u001b[0;31m---------------------------------------------------------------------------\u001b[0m",
      "\u001b[0;31mModuleNotFoundError\u001b[0m                       Traceback (most recent call last)",
      "Cell \u001b[0;32mIn[57], line 11\u001b[0m\n\u001b[1;32m      9\u001b[0m \u001b[38;5;28;01mimport\u001b[39;00m \u001b[38;5;21;01mnumpy\u001b[39;00m \u001b[38;5;28;01mas\u001b[39;00m \u001b[38;5;21;01mnp\u001b[39;00m\n\u001b[1;32m     10\u001b[0m \u001b[38;5;28;01mimport\u001b[39;00m \u001b[38;5;21;01mopendatasets\u001b[39;00m \u001b[38;5;28;01mas\u001b[39;00m \u001b[38;5;21;01mod\u001b[39;00m\n\u001b[0;32m---> 11\u001b[0m \u001b[38;5;28;01mimport\u001b[39;00m \u001b[38;5;21;01mJSON\u001b[39;00m \n",
      "\u001b[0;31mModuleNotFoundError\u001b[0m: No module named 'JSON'"
     ]
    }
   ],
   "source": [
    "import geopandas as gpd\n",
    "import matplotlib.pyplot as plt\n",
    "import pandas as pd\n",
    "import folium\n",
    "from shapely.geometry import Point\n",
    "\n",
    "%matplotlib inline\n",
    "\n",
    "import numpy as np\n",
    "import opendatasets as od\n"
   ]
  },
  {
   "cell_type": "code",
   "execution_count": 17,
   "id": "45f8dc15-6485-4635-83e5-27f803149b00",
   "metadata": {
    "tags": []
   },
   "outputs": [],
   "source": [
    "#set seed\n",
    "np.random.seed(123)"
   ]
  },
  {
   "cell_type": "code",
   "execution_count": 18,
   "id": "4f20099f-2089-4239-bd8d-e170a03ab03c",
   "metadata": {
    "tags": []
   },
   "outputs": [],
   "source": [
    "#load datasets\n",
    "\n",
    "bad_drivers = pd.read_csv(\"https://raw.githubusercontent.com/mish-salt/323-Group-Project/main/bad-drivers.csv\").set_index(\"State\")\n",
    "#bad drivers by state dataset\n",
    "\n",
    "insurance_cost = pd.read_csv(\"https://raw.githubusercontent.com/mish-salt/323-Group-Project/main/auto_insurance_cost.csv\").set_index(\"state\")\n",
    "#insurance cost by state dataset\n",
    "\n",
    "state_crime = pd.read_csv(\"https://raw.githubusercontent.com/mish-salt/323-Group-Project/main/state_crime.csv\")\n",
    "#Crimes by state - includes a column for car theft\n",
    "\n"
   ]
  },
  {
   "cell_type": "code",
   "execution_count": 19,
   "id": "51aeee12-1047-497c-8b35-fc56523736c2",
   "metadata": {
    "tags": []
   },
   "outputs": [
    {
     "name": "stdout",
     "output_type": "stream",
     "text": [
      "Skipping, found downloaded files in \"./us-accidents\" (use force=True to force download)\n"
     ]
    }
   ],
   "source": [
    "# #The dataset for car accidents is too large - here we import it directly from Kaggle\n",
    "accident_data = 'https://www.kaggle.com/datasets/sobhanmoosavi/us-accidents'\n",
    "od.download(accident_data) #download dataset file\n",
    "\n",
    "#load in dataset\n",
    "us_accidents = pd.read_csv('us-accidents/US_Accidents_March23.csv', usecols = [\"State\", \"Severity\"]) #The dataset is too large - select only the variables of interest\n"
   ]
  },
  {
   "cell_type": "markdown",
   "id": "62ab2be1-6ad9-4607-bd3f-0b4d32be541c",
   "metadata": {
    "tags": []
   },
   "source": [
    "<h1>Viewing Datasets</h1>"
   ]
  },
  {
   "cell_type": "code",
   "execution_count": 20,
   "id": "f0c14b9f-4166-41da-af19-aa357f558406",
   "metadata": {
    "tags": []
   },
   "outputs": [
    {
     "data": {
      "text/html": [
       "<div>\n",
       "<style scoped>\n",
       "    .dataframe tbody tr th:only-of-type {\n",
       "        vertical-align: middle;\n",
       "    }\n",
       "\n",
       "    .dataframe tbody tr th {\n",
       "        vertical-align: top;\n",
       "    }\n",
       "\n",
       "    .dataframe thead th {\n",
       "        text-align: right;\n",
       "    }\n",
       "</style>\n",
       "<table border=\"1\" class=\"dataframe\">\n",
       "  <thead>\n",
       "    <tr style=\"text-align: right;\">\n",
       "      <th></th>\n",
       "      <th>Number of drivers involved in fatal collisions per billion miles</th>\n",
       "      <th>Percentage Of Drivers Involved In Fatal Collisions Who Were Speeding</th>\n",
       "      <th>Percentage Of Drivers Involved In Fatal Collisions Who Were Alcohol-Impaired</th>\n",
       "      <th>Percentage Of Drivers Involved In Fatal Collisions Who Were Not Distracted</th>\n",
       "      <th>Percentage Of Drivers Involved In Fatal Collisions Who Had Not Been Involved In Any Previous Accidents</th>\n",
       "      <th>Car Insurance Premiums ($)</th>\n",
       "      <th>Losses incurred by insurance companies for collisions per insured driver ($)</th>\n",
       "    </tr>\n",
       "    <tr>\n",
       "      <th>State</th>\n",
       "      <th></th>\n",
       "      <th></th>\n",
       "      <th></th>\n",
       "      <th></th>\n",
       "      <th></th>\n",
       "      <th></th>\n",
       "      <th></th>\n",
       "    </tr>\n",
       "  </thead>\n",
       "  <tbody>\n",
       "    <tr>\n",
       "      <th>Alabama</th>\n",
       "      <td>18.8</td>\n",
       "      <td>39</td>\n",
       "      <td>30</td>\n",
       "      <td>96</td>\n",
       "      <td>80</td>\n",
       "      <td>784.55</td>\n",
       "      <td>145.08</td>\n",
       "    </tr>\n",
       "    <tr>\n",
       "      <th>Alaska</th>\n",
       "      <td>18.1</td>\n",
       "      <td>41</td>\n",
       "      <td>25</td>\n",
       "      <td>90</td>\n",
       "      <td>94</td>\n",
       "      <td>1053.48</td>\n",
       "      <td>133.93</td>\n",
       "    </tr>\n",
       "    <tr>\n",
       "      <th>Arizona</th>\n",
       "      <td>18.6</td>\n",
       "      <td>35</td>\n",
       "      <td>28</td>\n",
       "      <td>84</td>\n",
       "      <td>96</td>\n",
       "      <td>899.47</td>\n",
       "      <td>110.35</td>\n",
       "    </tr>\n",
       "    <tr>\n",
       "      <th>Arkansas</th>\n",
       "      <td>22.4</td>\n",
       "      <td>18</td>\n",
       "      <td>26</td>\n",
       "      <td>94</td>\n",
       "      <td>95</td>\n",
       "      <td>827.34</td>\n",
       "      <td>142.39</td>\n",
       "    </tr>\n",
       "    <tr>\n",
       "      <th>California</th>\n",
       "      <td>12.0</td>\n",
       "      <td>35</td>\n",
       "      <td>28</td>\n",
       "      <td>91</td>\n",
       "      <td>89</td>\n",
       "      <td>878.41</td>\n",
       "      <td>165.63</td>\n",
       "    </tr>\n",
       "  </tbody>\n",
       "</table>\n",
       "</div>"
      ],
      "text/plain": [
       "            Number of drivers involved in fatal collisions per billion miles  \\\n",
       "State                                                                          \n",
       "Alabama                                                  18.8                  \n",
       "Alaska                                                   18.1                  \n",
       "Arizona                                                  18.6                  \n",
       "Arkansas                                                 22.4                  \n",
       "California                                               12.0                  \n",
       "\n",
       "            Percentage Of Drivers Involved In Fatal Collisions Who Were Speeding  \\\n",
       "State                                                                              \n",
       "Alabama                                                    39                      \n",
       "Alaska                                                     41                      \n",
       "Arizona                                                    35                      \n",
       "Arkansas                                                   18                      \n",
       "California                                                 35                      \n",
       "\n",
       "            Percentage Of Drivers Involved In Fatal Collisions Who Were Alcohol-Impaired  \\\n",
       "State                                                                                      \n",
       "Alabama                                                    30                              \n",
       "Alaska                                                     25                              \n",
       "Arizona                                                    28                              \n",
       "Arkansas                                                   26                              \n",
       "California                                                 28                              \n",
       "\n",
       "            Percentage Of Drivers Involved In Fatal Collisions Who Were Not Distracted  \\\n",
       "State                                                                                    \n",
       "Alabama                                                    96                            \n",
       "Alaska                                                     90                            \n",
       "Arizona                                                    84                            \n",
       "Arkansas                                                   94                            \n",
       "California                                                 91                            \n",
       "\n",
       "            Percentage Of Drivers Involved In Fatal Collisions Who Had Not Been Involved In Any Previous Accidents  \\\n",
       "State                                                                                                                \n",
       "Alabama                                                    80                                                        \n",
       "Alaska                                                     94                                                        \n",
       "Arizona                                                    96                                                        \n",
       "Arkansas                                                   95                                                        \n",
       "California                                                 89                                                        \n",
       "\n",
       "            Car Insurance Premiums ($)  \\\n",
       "State                                    \n",
       "Alabama                         784.55   \n",
       "Alaska                         1053.48   \n",
       "Arizona                         899.47   \n",
       "Arkansas                        827.34   \n",
       "California                      878.41   \n",
       "\n",
       "            Losses incurred by insurance companies for collisions per insured driver ($)  \n",
       "State                                                                                     \n",
       "Alabama                                                145.08                             \n",
       "Alaska                                                 133.93                             \n",
       "Arizona                                                110.35                             \n",
       "Arkansas                                               142.39                             \n",
       "California                                             165.63                             "
      ]
     },
     "execution_count": 20,
     "metadata": {},
     "output_type": "execute_result"
    }
   ],
   "source": [
    "bad_drivers.head()"
   ]
  },
  {
   "cell_type": "code",
   "execution_count": 21,
   "id": "daa7748f-f7a2-4d27-9ca5-bb7cdb0ba30d",
   "metadata": {
    "tags": []
   },
   "outputs": [
    {
     "data": {
      "text/html": [
       "<div>\n",
       "<style scoped>\n",
       "    .dataframe tbody tr th:only-of-type {\n",
       "        vertical-align: middle;\n",
       "    }\n",
       "\n",
       "    .dataframe tbody tr th {\n",
       "        vertical-align: top;\n",
       "    }\n",
       "\n",
       "    .dataframe thead th {\n",
       "        text-align: right;\n",
       "    }\n",
       "</style>\n",
       "<table border=\"1\" class=\"dataframe\">\n",
       "  <thead>\n",
       "    <tr style=\"text-align: right;\">\n",
       "      <th></th>\n",
       "      <th>rank</th>\n",
       "      <th>full_coverage</th>\n",
       "      <th>minimum_coverage</th>\n",
       "      <th>difference</th>\n",
       "    </tr>\n",
       "    <tr>\n",
       "      <th>state</th>\n",
       "      <th></th>\n",
       "      <th></th>\n",
       "      <th></th>\n",
       "      <th></th>\n",
       "    </tr>\n",
       "  </thead>\n",
       "  <tbody>\n",
       "    <tr>\n",
       "      <th>Michigan</th>\n",
       "      <td>1</td>\n",
       "      <td>8723</td>\n",
       "      <td>5282</td>\n",
       "      <td>3441</td>\n",
       "    </tr>\n",
       "    <tr>\n",
       "      <th>Rhode Island</th>\n",
       "      <td>2</td>\n",
       "      <td>3847</td>\n",
       "      <td>1589</td>\n",
       "      <td>2258</td>\n",
       "    </tr>\n",
       "    <tr>\n",
       "      <th>Louisiana</th>\n",
       "      <td>3</td>\n",
       "      <td>3525</td>\n",
       "      <td>1329</td>\n",
       "      <td>2196</td>\n",
       "    </tr>\n",
       "    <tr>\n",
       "      <th>Kentucky</th>\n",
       "      <td>4</td>\n",
       "      <td>3418</td>\n",
       "      <td>1338</td>\n",
       "      <td>2079</td>\n",
       "    </tr>\n",
       "    <tr>\n",
       "      <th>Florida</th>\n",
       "      <td>5</td>\n",
       "      <td>3370</td>\n",
       "      <td>2565</td>\n",
       "      <td>805</td>\n",
       "    </tr>\n",
       "  </tbody>\n",
       "</table>\n",
       "</div>"
      ],
      "text/plain": [
       "             rank  full_coverage  minimum_coverage  difference\n",
       "state                                                         \n",
       "Michigan        1           8723              5282        3441\n",
       "Rhode Island    2           3847              1589        2258\n",
       "Louisiana       3           3525              1329        2196\n",
       "Kentucky        4           3418              1338        2079\n",
       "Florida         5           3370              2565         805"
      ]
     },
     "execution_count": 21,
     "metadata": {},
     "output_type": "execute_result"
    }
   ],
   "source": [
    "insurance_cost.head()"
   ]
  },
  {
   "cell_type": "code",
   "execution_count": 22,
   "id": "ab56b655-cad1-49c1-bd41-8be8166c3805",
   "metadata": {
    "tags": []
   },
   "outputs": [
    {
     "data": {
      "text/html": [
       "<div>\n",
       "<style scoped>\n",
       "    .dataframe tbody tr th:only-of-type {\n",
       "        vertical-align: middle;\n",
       "    }\n",
       "\n",
       "    .dataframe tbody tr th {\n",
       "        vertical-align: top;\n",
       "    }\n",
       "\n",
       "    .dataframe thead th {\n",
       "        text-align: right;\n",
       "    }\n",
       "</style>\n",
       "<table border=\"1\" class=\"dataframe\">\n",
       "  <thead>\n",
       "    <tr style=\"text-align: right;\">\n",
       "      <th></th>\n",
       "      <th>State</th>\n",
       "      <th>Year</th>\n",
       "      <th>Data.Population</th>\n",
       "      <th>Data.Rates.Property.All</th>\n",
       "      <th>Data.Rates.Property.Burglary</th>\n",
       "      <th>Data.Rates.Property.Larceny</th>\n",
       "      <th>Data.Rates.Property.Motor</th>\n",
       "      <th>Data.Rates.Violent.All</th>\n",
       "      <th>Data.Rates.Violent.Assault</th>\n",
       "      <th>Data.Rates.Violent.Murder</th>\n",
       "      <th>...</th>\n",
       "      <th>Data.Rates.Violent.Robbery</th>\n",
       "      <th>Data.Totals.Property.All</th>\n",
       "      <th>Data.Totals.Property.Burglary</th>\n",
       "      <th>Data.Totals.Property.Larceny</th>\n",
       "      <th>Data.Totals.Property.Motor</th>\n",
       "      <th>Data.Totals.Violent.All</th>\n",
       "      <th>Data.Totals.Violent.Assault</th>\n",
       "      <th>Data.Totals.Violent.Murder</th>\n",
       "      <th>Data.Totals.Violent.Rape</th>\n",
       "      <th>Data.Totals.Violent.Robbery</th>\n",
       "    </tr>\n",
       "  </thead>\n",
       "  <tbody>\n",
       "    <tr>\n",
       "      <th>0</th>\n",
       "      <td>Alabama</td>\n",
       "      <td>1960</td>\n",
       "      <td>3266740</td>\n",
       "      <td>1035.4</td>\n",
       "      <td>355.9</td>\n",
       "      <td>592.1</td>\n",
       "      <td>87.3</td>\n",
       "      <td>186.6</td>\n",
       "      <td>138.1</td>\n",
       "      <td>12.4</td>\n",
       "      <td>...</td>\n",
       "      <td>27.5</td>\n",
       "      <td>33823</td>\n",
       "      <td>11626</td>\n",
       "      <td>19344</td>\n",
       "      <td>2853</td>\n",
       "      <td>6097</td>\n",
       "      <td>4512</td>\n",
       "      <td>406</td>\n",
       "      <td>281</td>\n",
       "      <td>898</td>\n",
       "    </tr>\n",
       "    <tr>\n",
       "      <th>1</th>\n",
       "      <td>Alabama</td>\n",
       "      <td>1961</td>\n",
       "      <td>3302000</td>\n",
       "      <td>985.5</td>\n",
       "      <td>339.3</td>\n",
       "      <td>569.4</td>\n",
       "      <td>76.8</td>\n",
       "      <td>168.5</td>\n",
       "      <td>128.9</td>\n",
       "      <td>12.9</td>\n",
       "      <td>...</td>\n",
       "      <td>19.1</td>\n",
       "      <td>32541</td>\n",
       "      <td>11205</td>\n",
       "      <td>18801</td>\n",
       "      <td>2535</td>\n",
       "      <td>5564</td>\n",
       "      <td>4255</td>\n",
       "      <td>427</td>\n",
       "      <td>252</td>\n",
       "      <td>630</td>\n",
       "    </tr>\n",
       "    <tr>\n",
       "      <th>2</th>\n",
       "      <td>Alabama</td>\n",
       "      <td>1962</td>\n",
       "      <td>3358000</td>\n",
       "      <td>1067.0</td>\n",
       "      <td>349.1</td>\n",
       "      <td>634.5</td>\n",
       "      <td>83.4</td>\n",
       "      <td>157.3</td>\n",
       "      <td>119.0</td>\n",
       "      <td>9.4</td>\n",
       "      <td>...</td>\n",
       "      <td>22.5</td>\n",
       "      <td>35829</td>\n",
       "      <td>11722</td>\n",
       "      <td>21306</td>\n",
       "      <td>2801</td>\n",
       "      <td>5283</td>\n",
       "      <td>3995</td>\n",
       "      <td>316</td>\n",
       "      <td>218</td>\n",
       "      <td>754</td>\n",
       "    </tr>\n",
       "    <tr>\n",
       "      <th>3</th>\n",
       "      <td>Alabama</td>\n",
       "      <td>1963</td>\n",
       "      <td>3347000</td>\n",
       "      <td>1150.9</td>\n",
       "      <td>376.9</td>\n",
       "      <td>683.4</td>\n",
       "      <td>90.6</td>\n",
       "      <td>182.7</td>\n",
       "      <td>142.1</td>\n",
       "      <td>10.2</td>\n",
       "      <td>...</td>\n",
       "      <td>24.7</td>\n",
       "      <td>38521</td>\n",
       "      <td>12614</td>\n",
       "      <td>22874</td>\n",
       "      <td>3033</td>\n",
       "      <td>6115</td>\n",
       "      <td>4755</td>\n",
       "      <td>340</td>\n",
       "      <td>192</td>\n",
       "      <td>828</td>\n",
       "    </tr>\n",
       "    <tr>\n",
       "      <th>4</th>\n",
       "      <td>Alabama</td>\n",
       "      <td>1964</td>\n",
       "      <td>3407000</td>\n",
       "      <td>1358.7</td>\n",
       "      <td>466.6</td>\n",
       "      <td>784.1</td>\n",
       "      <td>108.0</td>\n",
       "      <td>213.1</td>\n",
       "      <td>163.0</td>\n",
       "      <td>9.3</td>\n",
       "      <td>...</td>\n",
       "      <td>29.1</td>\n",
       "      <td>46290</td>\n",
       "      <td>15898</td>\n",
       "      <td>26713</td>\n",
       "      <td>3679</td>\n",
       "      <td>7260</td>\n",
       "      <td>5555</td>\n",
       "      <td>316</td>\n",
       "      <td>397</td>\n",
       "      <td>992</td>\n",
       "    </tr>\n",
       "  </tbody>\n",
       "</table>\n",
       "<p>5 rows × 21 columns</p>\n",
       "</div>"
      ],
      "text/plain": [
       "     State  Year  Data.Population  Data.Rates.Property.All  \\\n",
       "0  Alabama  1960          3266740                   1035.4   \n",
       "1  Alabama  1961          3302000                    985.5   \n",
       "2  Alabama  1962          3358000                   1067.0   \n",
       "3  Alabama  1963          3347000                   1150.9   \n",
       "4  Alabama  1964          3407000                   1358.7   \n",
       "\n",
       "   Data.Rates.Property.Burglary  Data.Rates.Property.Larceny  \\\n",
       "0                         355.9                        592.1   \n",
       "1                         339.3                        569.4   \n",
       "2                         349.1                        634.5   \n",
       "3                         376.9                        683.4   \n",
       "4                         466.6                        784.1   \n",
       "\n",
       "   Data.Rates.Property.Motor  Data.Rates.Violent.All  \\\n",
       "0                       87.3                   186.6   \n",
       "1                       76.8                   168.5   \n",
       "2                       83.4                   157.3   \n",
       "3                       90.6                   182.7   \n",
       "4                      108.0                   213.1   \n",
       "\n",
       "   Data.Rates.Violent.Assault  Data.Rates.Violent.Murder  ...  \\\n",
       "0                       138.1                       12.4  ...   \n",
       "1                       128.9                       12.9  ...   \n",
       "2                       119.0                        9.4  ...   \n",
       "3                       142.1                       10.2  ...   \n",
       "4                       163.0                        9.3  ...   \n",
       "\n",
       "   Data.Rates.Violent.Robbery  Data.Totals.Property.All  \\\n",
       "0                        27.5                     33823   \n",
       "1                        19.1                     32541   \n",
       "2                        22.5                     35829   \n",
       "3                        24.7                     38521   \n",
       "4                        29.1                     46290   \n",
       "\n",
       "   Data.Totals.Property.Burglary  Data.Totals.Property.Larceny  \\\n",
       "0                          11626                         19344   \n",
       "1                          11205                         18801   \n",
       "2                          11722                         21306   \n",
       "3                          12614                         22874   \n",
       "4                          15898                         26713   \n",
       "\n",
       "   Data.Totals.Property.Motor  Data.Totals.Violent.All  \\\n",
       "0                        2853                     6097   \n",
       "1                        2535                     5564   \n",
       "2                        2801                     5283   \n",
       "3                        3033                     6115   \n",
       "4                        3679                     7260   \n",
       "\n",
       "   Data.Totals.Violent.Assault  Data.Totals.Violent.Murder  \\\n",
       "0                         4512                         406   \n",
       "1                         4255                         427   \n",
       "2                         3995                         316   \n",
       "3                         4755                         340   \n",
       "4                         5555                         316   \n",
       "\n",
       "   Data.Totals.Violent.Rape  Data.Totals.Violent.Robbery  \n",
       "0                       281                          898  \n",
       "1                       252                          630  \n",
       "2                       218                          754  \n",
       "3                       192                          828  \n",
       "4                       397                          992  \n",
       "\n",
       "[5 rows x 21 columns]"
      ]
     },
     "execution_count": 22,
     "metadata": {},
     "output_type": "execute_result"
    }
   ],
   "source": [
    "state_crime.head()"
   ]
  },
  {
   "cell_type": "code",
   "execution_count": null,
   "id": "9ece7a79-c645-4419-8253-d5eb7435bb2a",
   "metadata": {
    "tags": []
   },
   "outputs": [],
   "source": [
    "us_accidents.head()"
   ]
  },
  {
   "cell_type": "markdown",
   "id": "845bd68c-c456-4208-bcfa-7ea595a3e530",
   "metadata": {},
   "source": [
    "<h1>Data Wrangling</h1>"
   ]
  },
  {
   "cell_type": "markdown",
   "id": "36bfda30-e1fb-4ff6-9cad-f788699b97fd",
   "metadata": {},
   "source": [
    "For visualizing the correlation between these variables & insurance prices"
   ]
  },
  {
   "cell_type": "code",
   "execution_count": 28,
   "id": "867c8c38-8708-497c-adcd-6006e01fb3a1",
   "metadata": {
    "tags": []
   },
   "outputs": [
    {
     "data": {
      "text/html": [
       "<div>\n",
       "<style scoped>\n",
       "    .dataframe tbody tr th:only-of-type {\n",
       "        vertical-align: middle;\n",
       "    }\n",
       "\n",
       "    .dataframe tbody tr th {\n",
       "        vertical-align: top;\n",
       "    }\n",
       "\n",
       "    .dataframe thead th {\n",
       "        text-align: right;\n",
       "    }\n",
       "</style>\n",
       "<table border=\"1\" class=\"dataframe\">\n",
       "  <thead>\n",
       "    <tr style=\"text-align: right;\">\n",
       "      <th></th>\n",
       "      <th>full_coverage</th>\n",
       "      <th>minimum_coverage</th>\n",
       "      <th>difference</th>\n",
       "      <th>Number of drivers involved in fatal collisions per billion miles</th>\n",
       "      <th>Percentage Of Drivers Involved In Fatal Collisions Who Were Speeding</th>\n",
       "      <th>Percentage Of Drivers Involved In Fatal Collisions Who Were Alcohol-Impaired</th>\n",
       "      <th>stolen_cars_per_100k</th>\n",
       "    </tr>\n",
       "    <tr>\n",
       "      <th>State</th>\n",
       "      <th></th>\n",
       "      <th></th>\n",
       "      <th></th>\n",
       "      <th></th>\n",
       "      <th></th>\n",
       "      <th></th>\n",
       "      <th></th>\n",
       "    </tr>\n",
       "  </thead>\n",
       "  <tbody>\n",
       "    <tr>\n",
       "      <th>Michigan</th>\n",
       "      <td>8723</td>\n",
       "      <td>5282</td>\n",
       "      <td>3441</td>\n",
       "      <td>14.1</td>\n",
       "      <td>24</td>\n",
       "      <td>28</td>\n",
       "      <td>177.7</td>\n",
       "    </tr>\n",
       "    <tr>\n",
       "      <th>Rhode Island</th>\n",
       "      <td>3847</td>\n",
       "      <td>1589</td>\n",
       "      <td>2258</td>\n",
       "      <td>11.1</td>\n",
       "      <td>34</td>\n",
       "      <td>38</td>\n",
       "      <td>128.2</td>\n",
       "    </tr>\n",
       "    <tr>\n",
       "      <th>Louisiana</th>\n",
       "      <td>3525</td>\n",
       "      <td>1329</td>\n",
       "      <td>2196</td>\n",
       "      <td>20.5</td>\n",
       "      <td>35</td>\n",
       "      <td>33</td>\n",
       "      <td>230.5</td>\n",
       "    </tr>\n",
       "    <tr>\n",
       "      <th>Kentucky</th>\n",
       "      <td>3418</td>\n",
       "      <td>1338</td>\n",
       "      <td>2079</td>\n",
       "      <td>21.4</td>\n",
       "      <td>19</td>\n",
       "      <td>23</td>\n",
       "      <td>228.2</td>\n",
       "    </tr>\n",
       "    <tr>\n",
       "      <th>Florida</th>\n",
       "      <td>3370</td>\n",
       "      <td>2565</td>\n",
       "      <td>805</td>\n",
       "      <td>17.9</td>\n",
       "      <td>21</td>\n",
       "      <td>29</td>\n",
       "      <td>181.8</td>\n",
       "    </tr>\n",
       "  </tbody>\n",
       "</table>\n",
       "</div>"
      ],
      "text/plain": [
       "              full_coverage  minimum_coverage  difference  \\\n",
       "State                                                       \n",
       "Michigan               8723              5282        3441   \n",
       "Rhode Island           3847              1589        2258   \n",
       "Louisiana              3525              1329        2196   \n",
       "Kentucky               3418              1338        2079   \n",
       "Florida                3370              2565         805   \n",
       "\n",
       "              Number of drivers involved in fatal collisions per billion miles  \\\n",
       "State                                                                            \n",
       "Michigan                                                   14.1                  \n",
       "Rhode Island                                               11.1                  \n",
       "Louisiana                                                  20.5                  \n",
       "Kentucky                                                   21.4                  \n",
       "Florida                                                    17.9                  \n",
       "\n",
       "              Percentage Of Drivers Involved In Fatal Collisions Who Were Speeding  \\\n",
       "State                                                                                \n",
       "Michigan                                                     24                      \n",
       "Rhode Island                                                 34                      \n",
       "Louisiana                                                    35                      \n",
       "Kentucky                                                     19                      \n",
       "Florida                                                      21                      \n",
       "\n",
       "              Percentage Of Drivers Involved In Fatal Collisions Who Were Alcohol-Impaired  \\\n",
       "State                                                                                        \n",
       "Michigan                                                     28                              \n",
       "Rhode Island                                                 38                              \n",
       "Louisiana                                                    33                              \n",
       "Kentucky                                                     23                              \n",
       "Florida                                                      29                              \n",
       "\n",
       "              stolen_cars_per_100k  \n",
       "State                               \n",
       "Michigan                     177.7  \n",
       "Rhode Island                 128.2  \n",
       "Louisiana                    230.5  \n",
       "Kentucky                     228.2  \n",
       "Florida                      181.8  "
      ]
     },
     "execution_count": 28,
     "metadata": {},
     "output_type": "execute_result"
    }
   ],
   "source": [
    "#merging bad driver data with insurance data\n",
    "df1 = pd.merge(insurance_cost, bad_drivers, left_on = \"state\", right_index = True)\n",
    "#clean the crime dataset, use only obeservations from 2019, the closest time to 2020 in the dataset\n",
    "crime_data = state_crime.loc[state_crime.Year == 2019]\n",
    "\n",
    "\n",
    "#continue to merge it with the rate of stolen cars from the crime dataset\n",
    "\n",
    "\n",
    "df2 = pd.merge(df1, crime_data, left_on = \"state\", right_on = \"State\").set_index(\"State\")\n",
    "\n",
    "\n",
    "\n",
    "#clean up the dataset - exclude columns that are not needed \n",
    "col_list = [\"full_coverage\",\n",
    "            \"minimum_coverage\", \n",
    "            \"difference\", \n",
    "            \"Number of drivers involved in fatal collisions per billion miles\",\n",
    "           \"Percentage Of Drivers Involved In Fatal Collisions Who Were Speeding\",\n",
    "           \"Percentage Of Drivers Involved In Fatal Collisions Who Were Alcohol-Impaired\",\n",
    "           \"Data.Rates.Property.Motor\"]\n",
    "df3 = df2.loc[:, col_list]\n",
    "#changing some variable names\n",
    "\n",
    "plotting_data = df3.rename(columns = {\"Data.Rates.Property.Motor\":\"stolen_cars_per_100k\"}) #the variable refers to the number of stolen cars per 100,000 population\n",
    "\n",
    "plotting_data.head()"
   ]
  },
  {
   "cell_type": "markdown",
   "id": "ba800aaa-c2e5-4fbe-bb0e-791a782d73ab",
   "metadata": {},
   "source": [
    "<h1>Mapping Insurance Prices by State</h1>"
   ]
  },
  {
   "cell_type": "code",
   "execution_count": 132,
   "id": "3972a4bc-e8e8-47f1-a98a-a64eb4c8dbff",
   "metadata": {
    "tags": []
   },
   "outputs": [],
   "source": [
    "m = folium.Map(locations = [35.3, -97.6], tiles = \"CartoDB positron\", zoom_start = 8, min_zoom = 2) #initializing interactive map\n",
    "\n",
    "#mapping US insurance data - color legend referrs to values in the \"full_coverage\" column in insurance data\n",
    "insurance_map = folium.Choropleth(geo_data = \"./us-states.json\",\n",
    "                 data = insurance_cost,\n",
    "                 columns = [insurance_cost.index, \"full_coverage\"],\n",
    "                 key_on = \"feature.properties.name\",\n",
    "                 fill_color = \"YlGnBu\",\n",
    "                 name = \"Full Coverage\",\n",
    "                 legend_name = \"Full Coverage Insurance Price (USD)\",\n",
    "                bins = list(range(1000, 9500, 200)),\n",
    "                 fill_opacity = 0.8).add_to(m)\n"
   ]
  },
  {
   "cell_type": "code",
   "execution_count": 134,
   "id": "c7eef9c2-5937-4c85-b118-275f1f13c85e",
   "metadata": {
    "tags": []
   },
   "outputs": [
    {
     "data": {
      "text/plain": [
       "<folium.features.GeoJsonTooltip at 0x7fcb6897bbb0>"
      ]
     },
     "execution_count": 134,
     "metadata": {},
     "output_type": "execute_result"
    }
   ],
   "source": [
    "#adding interactive popups that provide more information \n",
    "popup = folium.GeoJsonPopup(\n",
    "    fields=[\"state\"],\n",
    "    aliases=[\"State\"],\n",
    "    localize=True,\n",
    "    labels=True,\n",
    "    style=\"background-color: yellow;\")\n",
    "\n",
    "tooltip = folium.GeoJsonTooltip(\n",
    "    fields=[\"state\"],\n",
    "    aliases=[\"State:\"],\n",
    "    localize=True,\n",
    "    sticky=False,\n",
    "    labels=True,\n",
    "    style=\"\"\"\n",
    "        background-color: #F0EFEF;\n",
    "        border: 1px solid black;\n",
    "        border-radius: 3px;\n",
    "        box-shadow: 3px;\n",
    "    \"\"\",\n",
    "    max_width=800)\n",
    "\n"
   ]
  },
  {
   "cell_type": "code",
   "execution_count": 135,
   "id": "9d309211-02bd-430d-90d8-abdca6545365",
   "metadata": {
    "tags": []
   },
   "outputs": [
    {
     "ename": "TypeError",
     "evalue": "GeoJson.__init__() missing 1 required positional argument: 'data'",
     "output_type": "error",
     "traceback": [
      "\u001b[0;31m---------------------------------------------------------------------------\u001b[0m",
      "\u001b[0;31mTypeError\u001b[0m                                 Traceback (most recent call last)",
      "Cell \u001b[0;32mIn[135], line 1\u001b[0m\n\u001b[0;32m----> 1\u001b[0m g \u001b[38;5;241m=\u001b[39m \u001b[43mfolium\u001b[49m\u001b[38;5;241;43m.\u001b[39;49m\u001b[43mGeoJson\u001b[49m\u001b[43m(\u001b[49m\u001b[43m)\u001b[49m\n",
      "\u001b[0;31mTypeError\u001b[0m: GeoJson.__init__() missing 1 required positional argument: 'data'"
     ]
    }
   ],
   "source": [
    "g = folium.GeoJson()"
   ]
  },
  {
   "cell_type": "markdown",
   "id": "bbdc03dd-6173-4c69-8cd4-0497d1d72237",
   "metadata": {},
   "source": [
    "<h1>Visualizing Correlation between Independent Variables and State Average Insurance Prices</h1>"
   ]
  },
  {
   "cell_type": "markdown",
   "id": "145636bb-c254-4ae9-a4f3-f50617ba6f97",
   "metadata": {
    "tags": []
   },
   "source": [
    "<h1>Regression Analysis</h1>"
   ]
  },
  {
   "cell_type": "markdown",
   "id": "d289ba32-c926-4eca-bae7-eb3ba90818f4",
   "metadata": {
    "tags": []
   },
   "source": [
    "<h1>Conclusion</h1>"
   ]
  },
  {
   "cell_type": "markdown",
   "id": "a6c9b5fa-061d-4566-b346-2ff4ed20ca40",
   "metadata": {},
   "source": [
    "<h1>References</h1>"
   ]
  },
  {
   "cell_type": "code",
   "execution_count": null,
   "id": "29943ee1-3eb6-411d-b5e9-d8c436c286e9",
   "metadata": {},
   "outputs": [],
   "source": []
  }
 ],
 "metadata": {
  "kernelspec": {
   "display_name": "Python 3 (ipykernel)",
   "language": "python",
   "name": "python3"
  },
  "language_info": {
   "codemirror_mode": {
    "name": "ipython",
    "version": 3
   },
   "file_extension": ".py",
   "mimetype": "text/x-python",
   "name": "python",
   "nbconvert_exporter": "python",
   "pygments_lexer": "ipython3",
   "version": "3.10.8"
  }
 },
 "nbformat": 4,
 "nbformat_minor": 5
}
